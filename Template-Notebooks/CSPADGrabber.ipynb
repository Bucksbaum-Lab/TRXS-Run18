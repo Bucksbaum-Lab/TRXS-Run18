{
 "cells": [
  {
   "cell_type": "markdown",
   "metadata": {},
   "source": [
    "# Experiment and path specification"
   ]
  },
  {
   "cell_type": "code",
   "execution_count": null,
   "metadata": {},
   "outputs": [],
   "source": [
    "# Specify the experiment for analysis\n",
    "experiment='cxix40218'\n",
    "runNumber = 58\n",
    "\n",
    "# Set the installation and output path\n",
    "import os\n",
    "os.environ['INSTALLPATH']= '/cds/home/i/igabalsk/TRXS-Run18'\n",
    "os.environ['OUTPUTPATH']= '/cds/data/psdm/%s/%s/scratch' % (experiment[0:3],experiment)"
   ]
  },
  {
   "cell_type": "markdown",
   "metadata": {},
   "source": [
    "# Import Libraries"
   ]
  },
  {
   "cell_type": "code",
   "execution_count": null,
   "metadata": {},
   "outputs": [],
   "source": [
    "# Magic iPython command to enable plotting\n",
    "%matplotlib inline\n",
    "\n",
    "# Load in the pythonBatchMagic library\n",
    "import sys\n",
    "print os.environ['INSTALLPATH']+'/Libraries/pythonBatchMagic'\n",
    "sys.path.insert(0, os.environ['INSTALLPATH']+'/Libraries/pythonBatchMagic')\n",
    "from pythonBatchMagic import *\n",
    "# Determine current user\n",
    "currentUser, error = unixCMD(\"echo $USER\")\n",
    "print(currentUser)\n",
    "os.environ['RESULTSPATH']= ('/cds/data/psdm/%s/%s/results/%s' % (experiment[0:3],experiment,currentUser)).strip()\n",
    "if not os.path.exists(os.environ['RESULTSPATH']):\n",
    "    os.mkdir(os.environ['RESULTSPATH'])"
   ]
  },
  {
   "cell_type": "markdown",
   "metadata": {},
   "source": [
    "# Leveraging the batch queue to quickly grab detector data"
   ]
  },
  {
   "cell_type": "markdown",
   "metadata": {},
   "source": [
    "## Loading libraries"
   ]
  },
  {
   "cell_type": "code",
   "execution_count": null,
   "metadata": {},
   "outputs": [],
   "source": [
    "sys.path.insert(0, os.environ['INSTALLPATH']+'/Libraries/LCLS')\n",
    "from LCLSdefault import *\n",
    "\n",
    "sys.path.insert(0, os.environ['INSTALLPATH']+'/Libraries/mattsLibraries')\n",
    "from picklez import *\n",
    "\n",
    "# Load in the get data library\n",
    "from dataAnalysis import *\n",
    "\n",
    "# Load in the batch library for lcls\n",
    "from lclsBatch import *"
   ]
  },
  {
   "cell_type": "markdown",
   "metadata": {},
   "source": [
    "## Load point data"
   ]
  },
  {
   "cell_type": "code",
   "execution_count": null,
   "metadata": {},
   "outputs": [],
   "source": [
    "pointData = load_obj( os.environ['RESULTSPATH']+'/pointData-run-%d' % runNumber )"
   ]
  },
  {
   "cell_type": "markdown",
   "metadata": {},
   "source": [
    "## Plot histogram of result"
   ]
  },
  {
   "cell_type": "code",
   "execution_count": null,
   "metadata": {},
   "outputs": [],
   "source": [
    "detArrays = pointData\n",
    "\n",
    "fig2, ax2 = plt.subplots(1, 1)\n",
    "ax2.hist(detArrays['xrayEnergy'], bins=100,normed=False, alpha=0.5);"
   ]
  },
  {
   "cell_type": "markdown",
   "metadata": {},
   "source": [
    "# Read in CSPAD via batch job"
   ]
  },
  {
   "cell_type": "markdown",
   "metadata": {},
   "source": [
    "## Specify good idxs"
   ]
  },
  {
   "cell_type": "code",
   "execution_count": null,
   "metadata": {},
   "outputs": [],
   "source": [
    "goodIdx = runFilter( pointData , filterOn=['xrayEnergy', 'ttfltpos'], maddevs=3 ).astype(bool)\n",
    "print 'Number of good shots: ', len(goodIdx[goodIdx==True])"
   ]
  },
  {
   "cell_type": "markdown",
   "metadata": {},
   "source": [
    "## Now generate time delays"
   ]
  },
  {
   "cell_type": "code",
   "execution_count": null,
   "metadata": {},
   "outputs": [],
   "source": [
    "TTPoly = np.array([2.235e-7, -2.21e-3, 8.547e-1]) \n",
    "\n",
    "TTFltPos = pointData['ttfltpos']\n",
    "TTCorrFltPos = TTPoly[0]*TTFltPos**2+TTPoly[1]*TTFltPos+TTPoly[2]\n",
    "TTTime = TTCorrFltPos - 1e9/3e8*2*(pointData['stageencoder']-56.35)\n",
    "\n",
    "# NOTE: This is a placeholder, and should be removed on runs with timetool data\n",
    "# TTTime = np.zeros(pointData['xrayEnergy'].shape)\n",
    "\n",
    "fig2, ax2 = plt.subplots(1, 1)\n",
    "ax2.hist(TTTime[goodIdx], bins=200,normed=False, alpha=0.5)\n",
    "ax2.set_xlabel('Delay (ps)')\n",
    "ax2.set_ylabel('Counts')\n",
    "plt.show()"
   ]
  },
  {
   "cell_type": "markdown",
   "metadata": {},
   "source": [
    "# Read in all images\n",
    "## If you just want to look at all the images at once"
   ]
  },
  {
   "cell_type": "code",
   "execution_count": null,
   "metadata": {
    "scrolled": true
   },
   "outputs": [],
   "source": [
    "# tagList = []\n",
    "# size_slice = len(goodIdx[goodIdx==True])\n",
    "# for idx in range(1):\n",
    "#     filteredSeconds = pointData['seconds'][goodIdx][0+size_slice*idx:size_slice+size_slice*idx]\n",
    "#     filteredNanoseconds = pointData['nanoseconds'][goodIdx][0+size_slice*idx:size_slice+size_slice*idx]\n",
    "#     filteredFiducials = pointData['fiducials'][goodIdx][0+size_slice*idx:size_slice+size_slice*idx]\n",
    "#     tagList.append( {'seconds':filteredSeconds, 'nanoseconds':filteredNanoseconds, 'fiducials':filteredFiducials} )\n",
    "\n",
    "# # batchThreads = batchCSPADGrabber (tagList, experiment=experiment, runNumber=runNumber, detType='Jungfrau')\n",
    "# batchThreads = batchCSPADMVGrabber (tagList, experiment=experiment, runNumber=runNumber, detType='Jungfrau')\n",
    "# timebins=np.arange(10)\n",
    "# batchThreads.Queue = 'psfehhiprioq'   \n",
    "# batchThreads.start()"
   ]
  },
  {
   "cell_type": "markdown",
   "metadata": {},
   "source": [
    "# Read in timebinned CSPAD\n",
    "## If you want to timebin your images"
   ]
  },
  {
   "cell_type": "code",
   "execution_count": null,
   "metadata": {
    "scrolled": true
   },
   "outputs": [],
   "source": [
    "# timebins = np.arange( -1.5,1.5,.03 )\n",
    "# timebins are in picoseconds\n",
    "# timebins = np.arange( 2.,5.5,.03 ) \n",
    "timebins = np.arange( -5.5, 5.5, .1 )\n",
    "print 'Number of timebins: ', len(timebins)\n",
    "dt = timebins[1]-timebins[0]\n",
    "NT = timebins.size\n",
    "\n",
    "tagList = []\n",
    "for idx, t in enumerate(timebins):\n",
    "    tIndex = (TTTime >= t-dt/2.)&(TTTime < t+dt/2.)\n",
    "    allIndex = tIndex & goodIdx\n",
    "    filteredSeconds = pointData['seconds'][allIndex]\n",
    "    filteredNanoseconds = pointData['nanoseconds'][allIndex]\n",
    "    filteredFiducials = pointData['fiducials'][allIndex]\n",
    "    tagList.append( {'seconds':filteredSeconds, 'nanoseconds':filteredNanoseconds, 'fiducials':filteredFiducials} )\n",
    "\n",
    "# batchThreads = batchCSPADGrabber (tagList, experiment=experiment, runNumber=runNumber, detType='Jungfrau')\n",
    "batchThreads = batchCSPADMVGrabber (tagList, experiment=experiment, runNumber=runNumber, detType='Jungfrau')\n",
    "\n",
    "batchThreads.Queue = 'psfehhiprioq'\n",
    "batchThreads.RunType = 'mpirun python2'\n",
    "batchThreads.start()\n"
   ]
  },
  {
   "cell_type": "markdown",
   "metadata": {},
   "source": [
    "## Check job status"
   ]
  },
  {
   "cell_type": "code",
   "execution_count": null,
   "metadata": {
    "scrolled": true
   },
   "outputs": [],
   "source": [
    "print batchThreads.status\n",
    "stdoutdata, stderrdata = bjobs()\n",
    "print stdoutdata\n",
    "print stderrdata"
   ]
  },
  {
   "cell_type": "markdown",
   "metadata": {},
   "source": [
    "## Kill threads if they die"
   ]
  },
  {
   "cell_type": "code",
   "execution_count": null,
   "metadata": {
    "scrolled": true
   },
   "outputs": [],
   "source": [
    "batchThreads.requestStop()\n",
    "time.sleep(5)\n",
    "stdoutdata, stderrdata = bkill(killAll=True)\n",
    "print stdoutdata\n",
    "print stderrdata"
   ]
  },
  {
   "cell_type": "markdown",
   "metadata": {},
   "source": [
    "# Save resulting CSPAD"
   ]
  },
  {
   "cell_type": "code",
   "execution_count": null,
   "metadata": {
    "scrolled": true
   },
   "outputs": [],
   "source": [
    "batchThreads.gather()\n",
    "CSPAD = batchThreads.CSPAD\n",
    "variance = batchThreads.variance\n",
    "counts = batchThreads.counts"
   ]
  },
  {
   "cell_type": "code",
   "execution_count": null,
   "metadata": {},
   "outputs": [],
   "source": [
    "\n",
    "np.save(os.environ['RESULTSPATH']+'/timebins-run-%d' % runNumber ,timebins)\n",
    "np.save(os.environ['RESULTSPATH']+'/CSPAD-run-%d' % runNumber  , CSPAD)\n",
    "np.save(os.environ['RESULTSPATH']+'/variance-run-%d' %  runNumber , variance)\n",
    "np.save(os.environ['RESULTSPATH']+'/counts-run-%d' % runNumber  , counts)\n"
   ]
  },
  {
   "cell_type": "markdown",
   "metadata": {},
   "source": [
    "# Plot CSPAD"
   ]
  },
  {
   "cell_type": "code",
   "execution_count": null,
   "metadata": {},
   "outputs": [],
   "source": [
    "# # Optional code if timebinned frames are already saved\n",
    "timebins = np.load(os.environ['RESULTSPATH']+'/timebins-run-%d.npy' % runNumber )\n",
    "CSPAD = np.load(os.environ['RESULTSPATH']+'/CSPAD-run-%d.npy' % runNumber)\n",
    "variance = np.load(os.environ['RESULTSPATH']+'/variance-run-%d.npy' % runNumber)\n",
    "counts = np.load(os.environ['RESULTSPATH']+'/counts-run-%d.npy' % runNumber)"
   ]
  },
  {
   "cell_type": "code",
   "execution_count": null,
   "metadata": {},
   "outputs": [],
   "source": [
    "for i in range(CSPAD.shape[-1]):\n",
    "    m = np.mean(CSPAD[:,:,:,i])\n",
    "    if not np.isnan(m):\n",
    "        print i, np.mean(CSPAD[:,:,:,i]), counts[i][0], timebins[i]"
   ]
  },
  {
   "cell_type": "code",
   "execution_count": null,
   "metadata": {},
   "outputs": [],
   "source": [
    "from IPython.display import clear_output\n",
    "from plotStyles import *\n",
    "\n",
    "def plotCSPAD( cspad , x , y, cspadMask=None, zLims = None, divergent=False, NTILE=8 ):\n",
    "    figOpts = {'xLims':[-1e5,1e5],'yLims':[-1e5,1e5],'divergent':divergent, 'xIn':3, 'yIn':3*11.5/14.5}\n",
    "    \n",
    "    if zLims is not None:\n",
    "        figOpts['zLims'] = zLims\n",
    "    \n",
    "    for iTile in range(NTILE):\n",
    "    \n",
    "        if cspadMask is not None:\n",
    "            cspadTile = cspad[iTile,:,:]\n",
    "            tileMask = ~cspadMask[iTile,:,:]\n",
    "            cspadTile[tileMask] = 0\n",
    "        \n",
    "        if iTile == 0:\n",
    "            newFigure = True\n",
    "        else:\n",
    "            newFigure = False\n",
    "            \n",
    "        clear_output()\n",
    "        colorPlot( x[iTile,:,:], y[iTile,:,:], cspadTile , newFigure=newFigure, **figOpts);\n",
    "\n",
    "\n",
    "x,y = CSPADgeometry(detType='Jungfrau', run=runNumber, experiment=experiment)\n",
    "# cspadMask = createMask(experiment=experiment, run=runNumber, detType='Jungfrau').astype(bool)\n",
    "cspadMask = np.ones_like(x).astype(bool)\n",
    "print(cspadMask.shape)\n",
    "\n",
    "print CSPAD.shape\n",
    "CSPADbinned = CSPAD\n",
    "\n",
    "# CSPADbinned[CSPADbinned>10]=0\n",
    "CSPAD2plot = np.nansum(CSPADbinned[:,:,:,:],axis=-1)#-CSPADbinned[:,:,:,53]\n",
    "# plotCSPAD( cspadMask, x , y , cspadMask=cspadMask, divergent=True )\n",
    "# plotCSPAD( np.sum(CSPADbinned[:,:,:,:100], axis=-1)-np.sum(CSPADbinned[:,:,:,100:200], axis=-1), x , y , cspadMask=cspadMask, divergent=False, NTILE=8 )\n",
    "plotCSPAD( CSPAD2plot, x , y , zLims=[0,2],\n",
    "          cspadMask=cspadMask, divergent=False, NTILE=8 )\n"
   ]
  },
  {
   "cell_type": "raw",
   "metadata": {},
   "source": []
  },
  {
   "cell_type": "code",
   "execution_count": null,
   "metadata": {},
   "outputs": [],
   "source": []
  }
 ],
 "metadata": {
  "kernelspec": {
   "display_name": "LCLS-I py2",
   "language": "python",
   "name": "ana1-current"
  },
  "language_info": {
   "codemirror_mode": {
    "name": "ipython",
    "version": 2
   },
   "file_extension": ".py",
   "mimetype": "text/x-python",
   "name": "python",
   "nbconvert_exporter": "python",
   "pygments_lexer": "ipython2",
   "version": "2.7.15"
  }
 },
 "nbformat": 4,
 "nbformat_minor": 2
}
