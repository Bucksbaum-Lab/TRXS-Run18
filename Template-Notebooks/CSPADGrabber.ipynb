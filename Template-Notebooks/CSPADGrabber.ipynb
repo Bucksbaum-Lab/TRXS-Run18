{
 "cells": [
  {
   "cell_type": "markdown",
   "metadata": {},
   "source": [
    "# Experiment and path specification"
   ]
  },
  {
   "cell_type": "code",
   "execution_count": 63,
   "metadata": {},
   "outputs": [],
   "source": [
    "# Specify the experiment for analysis\n",
    "experiment='cxilu9218'\n",
    "runNumber = 18\n",
    "\n",
    "# Set the installation and output path\n",
    "import os\n",
    "os.environ['INSTALLPATH']= '/cds/home/i/igabalsk/TRXS-Run18'\n",
    "os.environ['OUTPUTPATH']= '/cds/data/psdm/%s/%s/scratch' % (experiment[0:3],experiment)"
   ]
  },
  {
   "cell_type": "markdown",
   "metadata": {},
   "source": [
    "# Import Libraries"
   ]
  },
  {
   "cell_type": "code",
   "execution_count": 64,
   "metadata": {},
   "outputs": [
    {
     "name": "stdout",
     "output_type": "stream",
     "text": [
      "/cds/home/i/igabalsk/TRXS-Run18/Libraries/pythonBatchMagic\n",
      "igabalsk\n",
      "\n"
     ]
    }
   ],
   "source": [
    "# Magic iPython command to enable plotting\n",
    "%matplotlib inline\n",
    "\n",
    "# Load in the pythonBatchMagic library\n",
    "import sys\n",
    "print os.environ['INSTALLPATH']+'/Libraries/pythonBatchMagic'\n",
    "sys.path.insert(0, os.environ['INSTALLPATH']+'/Libraries/pythonBatchMagic')\n",
    "from pythonBatchMagic import *\n",
    "# Determine current user\n",
    "currentUser, error = unixCMD(\"echo $USER\")\n",
    "print(currentUser)\n",
    "os.environ['RESULTSPATH']= ('/cds/data/psdm/%s/%s/results/%s' % (experiment[0:3],experiment,currentUser)).strip()\n",
    "if not os.path.exists(os.environ['RESULTSPATH']):\n",
    "    os.mkdir(os.environ['RESULTSPATH'])"
   ]
  },
  {
   "cell_type": "markdown",
   "metadata": {},
   "source": [
    "# Leveraging the batch queue to quickly grab detector data"
   ]
  },
  {
   "cell_type": "markdown",
   "metadata": {},
   "source": [
    "## Loading libraries"
   ]
  },
  {
   "cell_type": "code",
   "execution_count": 65,
   "metadata": {},
   "outputs": [],
   "source": [
    "sys.path.insert(0, os.environ['INSTALLPATH']+'/Libraries/LCLS')\n",
    "from LCLSdefault import *\n",
    "\n",
    "sys.path.insert(0, os.environ['INSTALLPATH']+'/Libraries/mattsLibraries')\n",
    "from picklez import *\n",
    "\n",
    "# Load in the get data library\n",
    "from dataAnalysis import *\n",
    "\n",
    "# Load in the batch library for lcls\n",
    "from lclsBatch import *"
   ]
  },
  {
   "cell_type": "markdown",
   "metadata": {},
   "source": [
    "## Load point data"
   ]
  },
  {
   "cell_type": "code",
   "execution_count": 66,
   "metadata": {},
   "outputs": [
    {
     "name": "stdout",
     "output_type": "stream",
     "text": [
      "/cds/data/psdm/cxi/cxilu9218/results/igabalsk/pointData-run-18 remembered!\n"
     ]
    }
   ],
   "source": [
    "pointData = load_obj( os.environ['RESULTSPATH']+'/pointData-run-%d' % runNumber )"
   ]
  },
  {
   "cell_type": "markdown",
   "metadata": {},
   "source": [
    "## Plot histogram of result"
   ]
  },
  {
   "cell_type": "code",
   "execution_count": 67,
   "metadata": {},
   "outputs": [
    {
     "data": {
      "image/png": "[encoded data removed]",
      "text/plain": [
       "<Figure size 432x288 with 1 Axes>"
      ]
     },
     "metadata": {
      "needs_background": "light"
     },
     "output_type": "display_data"
    }
   ],
   "source": [
    "detArrays = pointData\n",
    "\n",
    "fig2, ax2 = plt.subplots(1, 1)\n",
    "ax2.hist(detArrays['xrayEnergy'], bins=100,normed=False, alpha=0.5);"
   ]
  },
  {
   "cell_type": "markdown",
   "metadata": {},
   "source": [
    "# Read in CSPAD via batch job"
   ]
  },
  {
   "cell_type": "markdown",
   "metadata": {},
   "source": [
    "## Specify good idxs"
   ]
  },
  {
   "cell_type": "code",
   "execution_count": 68,
   "metadata": {},
   "outputs": [
    {
     "name": "stdout",
     "output_type": "stream",
     "text": [
      "Number of good shots:  3523\n"
     ]
    }
   ],
   "source": [
    "goodIdx = runFilter( pointData , filterOn=['xrayEnergy', 'ttfltpos'], maddevs=3 ).astype(bool)\n",
    "print 'Number of good shots: ', len(goodIdx[goodIdx==True])"
   ]
  },
  {
   "cell_type": "markdown",
   "metadata": {},
   "source": [
    "## Now generate time delays"
   ]
  },
  {
   "cell_type": "code",
   "execution_count": 69,
   "metadata": {},
   "outputs": [
    {
     "data": {
      "image/png": "[encoded data removed]",
      "text/plain": [
       "<Figure size 432x288 with 1 Axes>"
      ]
     },
     "metadata": {
      "needs_background": "light"
     },
     "output_type": "display_data"
    }
   ],
   "source": [
    "# Calibrated timetool for LU92\n",
    "TTPoly = np.array([2.95684259e-06, -1.43969413e-03]) \n",
    "\n",
    "TTFltPos = pointData['ttfltpos']\n",
    "TTCorrFltPos = TTPoly[1]*TTFltPos+TTPoly[0]\n",
    "TTTime = 0*TTCorrFltPos - 1e9/3e8*2*(pointData['stageencoder']-56.35)\n",
    "\n",
    "# NOTE: This is a placeholder, and should be removed on runs with timetool data\n",
    "# TTTime = np.zeros(pointData['xrayEnergy'].shape)\n",
    "\n",
    "fig2, ax2 = plt.subplots(1, 1)\n",
    "ax2.hist(TTTime[goodIdx], bins=200,normed=False, alpha=0.5)\n",
    "ax2.set_xlabel('Delay (ps)')\n",
    "ax2.set_ylabel('Counts')\n",
    "plt.show()"
   ]
  },
  {
   "cell_type": "markdown",
   "metadata": {},
   "source": [
    "# Read in all images\n",
    "## If you just want to look at all the images at once"
   ]
  },
  {
   "cell_type": "code",
   "execution_count": 70,
   "metadata": {
    "scrolled": true
   },
   "outputs": [],
   "source": [
    "# tagList = []\n",
    "# size_slice = len(goodIdx[goodIdx==True])\n",
    "# for idx in range(1):\n",
    "#     filteredSeconds = pointData['seconds'][goodIdx][0+size_slice*idx:size_slice+size_slice*idx]\n",
    "#     filteredNanoseconds = pointData['nanoseconds'][goodIdx][0+size_slice*idx:size_slice+size_slice*idx]\n",
    "#     filteredFiducials = pointData['fiducials'][goodIdx][0+size_slice*idx:size_slice+size_slice*idx]\n",
    "#     tagList.append( {'seconds':filteredSeconds, 'nanoseconds':filteredNanoseconds, 'fiducials':filteredFiducials} )\n",
    "\n",
    "# # batchThreads = batchCSPADGrabber (tagList, experiment=experiment, runNumber=runNumber, detType='Jungfrau')\n",
    "# batchThreads = batchCSPADMVGrabber (tagList, experiment=experiment, runNumber=runNumber, detType='Jungfrau')\n",
    "# timebins=np.arange(10)\n",
    "# batchThreads.Queue = 'psfehhiprioq'   \n",
    "# batchThreads.start()"
   ]
  },
  {
   "cell_type": "code",
   "execution_count": 71,
   "metadata": {},
   "outputs": [
    {
     "name": "stdout",
     "output_type": "stream",
     "text": [
      "[-1.  1.]\n",
      "[56.2 56.5]\n"
     ]
    }
   ],
   "source": [
    "print np.unique(TTTime)\n",
    "print np.unique(pointData['stageencoder'])"
   ]
  },
  {
   "cell_type": "markdown",
   "metadata": {},
   "source": [
    "# Read in timebinned CSPAD\n",
    "## If you want to timebin your images"
   ]
  },
  {
   "cell_type": "code",
   "execution_count": 72,
   "metadata": {
    "scrolled": true
   },
   "outputs": [
    {
     "name": "stdout",
     "output_type": "stream",
     "text": [
      "Number of timebins:  2\n",
      "Deleting the old output file ...\n",
      "Output: \n",
      "Error: None\n",
      "Deleting the old executable file ...\n",
      "Output: \n",
      "Error: None\n",
      "Submitting: ssh psana 'bsub -n 1 -R \"rusage[mem=7000]\" -q psanaq -o /cds/data/psdm/cxi/cxilu9218/scratch/igabalsk/Batch/Output/CSPADMV-run-18-temp-CSPAD-0.out /cds/home/i/igabalsk/TRXS-Run18/Libraries/pythonBatchMagic/BatchWrapper.sh mpirun python2 /cds/data/psdm/cxi/cxilu9218/scratch/igabalsk/Batch/Python/CSPADMV-run-18-temp-CSPAD-0.py; exit'\n",
      "Output: Job <402209> is submitted to queue <psanaq>.\n",
      "\n",
      "Error: \n",
      "Deleting the old output file ...\n",
      "Output: \n",
      "Error: None\n",
      "Deleting the old executable file ...\n",
      "Output: \n",
      "Error: None\n",
      "Submitting: ssh psana 'bsub -n 1 -R \"rusage[mem=7000]\" -q psanaq -o /cds/data/psdm/cxi/cxilu9218/scratch/igabalsk/Batch/Output/CSPADMV-run-18-temp-CSPAD-1.out /cds/home/i/igabalsk/TRXS-Run18/Libraries/pythonBatchMagic/BatchWrapper.sh mpirun python2 /cds/data/psdm/cxi/cxilu9218/scratch/igabalsk/Batch/Python/CSPADMV-run-18-temp-CSPAD-1.py; exit'\n",
      "Output: Job <402215> is submitted to queue <psanaq>.\n",
      "\n",
      "Error: \n"
     ]
    }
   ],
   "source": [
    "# timebins = np.arange( -1.5,1.5,.03 )\n",
    "# timebins are in picoseconds\n",
    "# timebins = np.arange( 2.,5.5,.03 ) \n",
    "# timebins = np.arange( -1, 1, .1 )\n",
    "# timebins = np.array([-1.25,0.75])\n",
    "timebins = np.unique(TTTime)\n",
    "print 'Number of timebins: ', len(timebins)\n",
    "# dt = timebins[1]-timebins[0]\n",
    "dt = 0.05\n",
    "NT = timebins.size\n",
    "\n",
    "tagList = []\n",
    "for idx, t in enumerate(timebins):\n",
    "    tIndex = (TTTime >= t-dt/2.)&(TTTime < t+dt/2.)\n",
    "    allIndex = tIndex & goodIdx\n",
    "    filteredSeconds = pointData['seconds'][allIndex]\n",
    "    filteredNanoseconds = pointData['nanoseconds'][allIndex]\n",
    "    filteredFiducials = pointData['fiducials'][allIndex]\n",
    "    tagList.append( {'seconds':filteredSeconds, 'nanoseconds':filteredNanoseconds, 'fiducials':filteredFiducials} )\n",
    "\n",
    "# batchThreads = batchCSPADGrabber (tagList, experiment=experiment, runNumber=runNumber, detType='Jungfrau')\n",
    "batchThreads = batchCSPADMVGrabber (tagList, experiment=experiment, runNumber=runNumber, detType='Jungfrau')\n",
    "\n",
    "batchThreads.Queue = 'psanaq'\n",
    "batchThreads.RunType = 'mpirun python2'\n",
    "batchThreads.start()\n"
   ]
  },
  {
   "cell_type": "markdown",
   "metadata": {},
   "source": [
    "## Check job status"
   ]
  },
  {
   "cell_type": "code",
   "execution_count": 73,
   "metadata": {
    "scrolled": true
   },
   "outputs": [
    {
     "name": "stdout",
     "output_type": "stream",
     "text": [
      "Running\n",
      "JOBID   USER    STAT  QUEUE      FROM_HOST   EXEC_HOST   JOB_NAME   SUBMIT_TIME\n",
      "402209  igabals RUN   psanaq     psanagpu104 psana1304   *SPAD-0.py Nov 27 20:43\n",
      "402215  igabals RUN   psanaq     psanagpu104 psana1109   *SPAD-1.py Nov 27 20:43\n",
      "\n",
      "\n",
      "IOError: Did you load the correct file? /cds/data/psdm/cxi/cxilu9218/scratch/igabalsk/Batch/Output/mean-var-node-0-run-18\n",
      "[Errno 2] No such file or directory: '/cds/data/psdm/cxi/cxilu9218/scratch/igabalsk/Batch/Output/mean-var-node-0-run-18.pkl'\n",
      "IOError: Did you load the correct file? /cds/data/psdm/cxi/cxilu9218/scratch/igabalsk/Batch/Output/mean-var-node-1-run-18\n",
      "[Errno 2] No such file or directory: '/cds/data/psdm/cxi/cxilu9218/scratch/igabalsk/Batch/Output/mean-var-node-1-run-18.pkl'\n"
     ]
    }
   ],
   "source": [
    "print batchThreads.status\n",
    "stdoutdata, stderrdata = bjobs()\n",
    "print stdoutdata\n",
    "print stderrdata"
   ]
  },
  {
   "cell_type": "markdown",
   "metadata": {},
   "source": [
    "## Kill threads if they die"
   ]
  },
  {
   "cell_type": "code",
   "execution_count": 28,
   "metadata": {
    "scrolled": true
   },
   "outputs": [
    {
     "name": "stdout",
     "output_type": "stream",
     "text": [
      "Job <391578> is being terminated\n",
      "Job <391589> is being terminated\n",
      "\n",
      "Job <391600>: Job has already finished\n",
      "\n"
     ]
    }
   ],
   "source": [
    "batchThreads.requestStop()\n",
    "time.sleep(5)\n",
    "stdoutdata, stderrdata = bkill(killAll=True)\n",
    "print stdoutdata\n",
    "print stderrdata"
   ]
  },
  {
   "cell_type": "markdown",
   "metadata": {},
   "source": [
    "# Save resulting CSPAD"
   ]
  },
  {
   "cell_type": "code",
   "execution_count": 52,
   "metadata": {
    "scrolled": true
   },
   "outputs": [
    {
     "name": "stdout",
     "output_type": "stream",
     "text": [
      "/cds/data/psdm/cxi/cxilu9218/scratch/igabalsk/Batch/Output/mean-var-node-0-run-17 remembered!\n",
      "/cds/data/psdm/cxi/cxilu9218/scratch/igabalsk/Batch/Output/mean-var-node-1-run-17 remembered!\n"
     ]
    }
   ],
   "source": [
    "batchThreads.gather()\n",
    "CSPAD = batchThreads.CSPAD\n",
    "variance = batchThreads.variance\n",
    "counts = batchThreads.counts"
   ]
  },
  {
   "cell_type": "code",
   "execution_count": 53,
   "metadata": {},
   "outputs": [],
   "source": [
    "from scipy.io import savemat\n",
    "np.save(os.environ['RESULTSPATH']+'/timebins-run-%d' % runNumber ,timebins)\n",
    "np.save(os.environ['RESULTSPATH']+'/CSPAD-run-%d' % runNumber  , CSPAD)\n",
    "np.save(os.environ['RESULTSPATH']+'/variance-run-%d' %  runNumber , variance)\n",
    "np.save(os.environ['RESULTSPATH']+'/counts-run-%d' % runNumber  , counts)\n",
    "\n",
    "filename = os.environ['RESULTSPATH']+'/timebinned-detector-images-run-%d' % runNumber\n",
    "mdict = {'timebins':timebins,'CSPAD':CSPAD,'variance':variance,'counts':counts}\n",
    "savemat(filename, mdict)"
   ]
  },
  {
   "cell_type": "markdown",
   "metadata": {},
   "source": [
    "# Plot CSPAD"
   ]
  },
  {
   "cell_type": "code",
   "execution_count": 54,
   "metadata": {},
   "outputs": [],
   "source": [
    "# # Optional code if timebinned frames are already saved\n",
    "timebins = np.load(os.environ['RESULTSPATH']+'/timebins-run-%d.npy' % runNumber )\n",
    "CSPAD = np.load(os.environ['RESULTSPATH']+'/CSPAD-run-%d.npy' % runNumber)\n",
    "variance = np.load(os.environ['RESULTSPATH']+'/variance-run-%d.npy' % runNumber)\n",
    "counts = np.load(os.environ['RESULTSPATH']+'/counts-run-%d.npy' % runNumber)"
   ]
  },
  {
   "cell_type": "code",
   "execution_count": 55,
   "metadata": {},
   "outputs": [
    {
     "name": "stdout",
     "output_type": "stream",
     "text": [
      "0 0.07491664750009358 1927.0 -0.9999999999999906\n",
      "1 0.07642797675708198 2159.0 0.9999999999999906\n"
     ]
    }
   ],
   "source": [
    "for i in range(CSPAD.shape[-1]):\n",
    "    m = np.mean(CSPAD[:,:,:,i])\n",
    "    if not np.isnan(m):\n",
    "        print i, np.mean(CSPAD[:,:,:,i]), counts[i][0], timebins[i]"
   ]
  },
  {
   "cell_type": "code",
   "execution_count": 58,
   "metadata": {},
   "outputs": [
    {
     "name": "stdout",
     "output_type": "stream",
     "text": [
      "(0.0, 5.5)\n"
     ]
    },
    {
     "data": {
      "image/png": "[encoded data removed]",
      "text/plain": [
       "<Figure size 900x713.793 with 2 Axes>"
      ]
     },
     "metadata": {
      "needs_background": "light"
     },
     "output_type": "display_data"
    }
   ],
   "source": [
    "from IPython.display import clear_output\n",
    "from plotStyles import *\n",
    "\n",
    "def plotCSPAD( cspad , x , y, cspadMask=None, zLims = None, divergent=False, NTILE=8 ):\n",
    "    figOpts = {'xLims':[-1e5,1e5],'yLims':[-1e5,1e5],'divergent':divergent, 'xIn':3, 'yIn':3*11.5/14.5}\n",
    "    \n",
    "    if zLims is not None:\n",
    "        figOpts['zLims'] = zLims\n",
    "    \n",
    "    for iTile in range(NTILE):\n",
    "    \n",
    "        if cspadMask is not None:\n",
    "            cspadTile = cspad[iTile,:,:]\n",
    "            tileMask = ~cspadMask[iTile,:,:]\n",
    "            cspadTile[tileMask] = 0\n",
    "        \n",
    "        if iTile == 0:\n",
    "            newFigure = True\n",
    "        else:\n",
    "            newFigure = False\n",
    "            \n",
    "        clear_output()\n",
    "        colorPlot( x[iTile,:,:], y[iTile,:,:], cspadTile , newFigure=newFigure, **figOpts);\n",
    "\n",
    "\n",
    "x,y = CSPADgeometry(detType='Jungfrau', run=runNumber, experiment=experiment)\n",
    "# cspadMask = createMask(experiment=experiment, run=runNumber, detType='Jungfrau').astype(bool)\n",
    "cspadMask = np.ones_like(x).astype(bool)\n",
    "print(cspadMask.shape)\n",
    "\n",
    "print CSPAD.shape\n",
    "CSPADbinned = CSPAD\n",
    "\n",
    "# CSPADbinned[CSPADbinned>10]=0\n",
    "CSPAD2plot = np.nansum(CSPADbinned[:,:,:,:],axis=-1)#-CSPADbinned[:,:,:,53]\n",
    "plotCSPAD( 100*CSPAD2plot, x , y , zLims=[0,5],\n",
    "          cspadMask=cspadMask, divergent=False, NTILE=8 )\n",
    "# plt.savefig('background_thresholded_summed_image.png')"
   ]
  },
  {
   "cell_type": "code",
   "execution_count": 57,
   "metadata": {
    "scrolled": false
   },
   "outputs": [
    {
     "name": "stdout",
     "output_type": "stream",
     "text": [
      "Index Count      Sum   Median Variance\n",
      "0     1927.0 314223.0      0.0 1080.7431\n",
      "1     2159.0 320562.0      0.0 1080.9331\n"
     ]
    }
   ],
   "source": [
    "print '{0:<5} {1:>5} {2:>8} {3:>8} {4:>8}'.format('Index','Count','Sum','Median','Variance')\n",
    "for i in range(CSPAD.shape[-1]):\n",
    "    if counts[i][0]>0:\n",
    "        vals = (i, counts[i][0], round(np.sum(CSPAD[:,:,:,i])),round(np.median(CSPAD[:,:,:,i]),4), round(np.var(CSPAD[:,:,:,i]),4))\n",
    "        print '{0:<5} {1:>5} {2:>8} {3:>8} {4:>8}'.format(*vals)"
   ]
  },
  {
   "cell_type": "code",
   "execution_count": null,
   "metadata": {},
   "outputs": [],
   "source": []
  }
 ],
 "metadata": {
  "kernelspec": {
   "display_name": "LCLS-I py2",
   "language": "python",
   "name": "ana1-current"
  },
  "language_info": {
   "codemirror_mode": {
    "name": "ipython",
    "version": 2
   },
   "file_extension": ".py",
   "mimetype": "text/x-python",
   "name": "python",
   "nbconvert_exporter": "python",
   "pygments_lexer": "ipython2",
   "version": "2.7.15"
  }
 },
 "nbformat": 4,
 "nbformat_minor": 2
}
