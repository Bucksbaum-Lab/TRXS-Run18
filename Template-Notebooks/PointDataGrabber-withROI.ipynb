{
 "cells": [
  {
   "cell_type": "markdown",
   "metadata": {},
   "source": [
    "# Experiment and path specification"
   ]
  },
  {
   "cell_type": "code",
   "execution_count": null,
   "metadata": {},
   "outputs": [],
   "source": [
    "# Specify the experiment for analysis\n",
    "# experiment='cxic00318'\n",
    "# runNumber = 123\n",
    "# experiment='cxix40218'\n",
    "experiment='cxilu9218'\n",
    "# runNumber=31 # includes cspad info\n",
    "# runNumber=32 # includes cspad info\n",
    "runNumber=33 # includes cspad info\n",
    "runNumber=29 # includes cspad info\n",
    "runNumber=28 # includes cspad info\n",
    "runNumber=27 # includes cspad info\n",
    "runNumber=26 # includes cspad info\n",
    "runNumber=14 # includes cspad info\n",
    "runNumber=13 # includes cspad info\n",
    "runNumber=21 # includes cspad info\n",
    "runNumber=37 # includes cspad info\n",
    "runNumber=39 # includes cspad info\n",
    "runNumber=49 # includes cspad info\n",
    "runNumber=50 # includes cspad info\n",
    "runNumber=14 # includes cspad info\n",
    "runNumber=49 # includes cspad info\n",
    "runNumber=73 # includes cspad info\n",
    "# runNumber=21 # includes cspad info\n",
    "# runNumber=9 # includes cspad info\n",
    "\n",
    "\n",
    "# Set the installation and output path\n",
    "import os\n",
    "os.environ['INSTALLPATH']= '/cds/home/m/mrware/TRXS-dev/TRXS-Run18v3'\n",
    "os.environ['OUTPUTPATH']= '/cds/data/psdm/%s/%s/scratch' % (experiment[0:3],experiment)"
   ]
  },
  {
   "cell_type": "code",
   "execution_count": null,
   "metadata": {},
   "outputs": [],
   "source": [
    "# x,y = CSPADgeometry(detType='Jungfrau', run=runNumber, experiment=experiment)"
   ]
  },
  {
   "cell_type": "code",
   "execution_count": null,
   "metadata": {},
   "outputs": [],
   "source": [
    "# np.savez('detgeom',x=x,y=y)"
   ]
  },
  {
   "cell_type": "code",
   "execution_count": null,
   "metadata": {},
   "outputs": [],
   "source": [
    "detGeom = np.load('/cds/home/m/mrware/TRXS-dev/TRXS-Run18v3/Template-Notebooks/detgeom.npz')\n",
    "x = detGeom['x']\n",
    "y = detGeom['y']\n",
    "r = np.sqrt(y**2+x**2)\n",
    "rMax = 1e5\n",
    "NR = 20\n",
    "dr = float(rMax)/float(NR)\n",
    "idx = 20\n",
    "np.sum((r>idx*dr)&(r< (idx+1)*dr ) )"
   ]
  },
  {
   "cell_type": "code",
   "execution_count": null,
   "metadata": {},
   "outputs": [],
   "source": []
  },
  {
   "cell_type": "code",
   "execution_count": null,
   "metadata": {},
   "outputs": [],
   "source": []
  },
  {
   "cell_type": "markdown",
   "metadata": {},
   "source": [
    "# Import Libraries"
   ]
  },
  {
   "cell_type": "code",
   "execution_count": null,
   "metadata": {},
   "outputs": [],
   "source": [
    "# Magic iPython command to enable plotting\n",
    "%matplotlib inline\n",
    "\n",
    "# Load in the pythonBatchMagic library\n",
    "import sys\n",
    "sys.path.insert(0, os.environ['INSTALLPATH']+'/Libraries/pythonBatchMagic')\n",
    "from pythonBatchMagic import *\n",
    "\n",
    "# Determine current user\n",
    "currentUser, error = unixCMD(\"echo $USER\")\n",
    "currentUser = currentUser.strip()\n",
    "print(currentUser)\n",
    "os.environ['RESULTSPATH']= ('/cds/data/psdm/%s/%s/results/%s' % (experiment[0:3],experiment,currentUser)).strip()\n",
    "if not os.path.exists(os.environ['RESULTSPATH']):\n",
    "    os.mkdir(os.environ['RESULTSPATH'])"
   ]
  },
  {
   "cell_type": "markdown",
   "metadata": {},
   "source": [
    "# Leveraging the batch queue to quickly grab point data"
   ]
  },
  {
   "cell_type": "markdown",
   "metadata": {},
   "source": [
    "## Loading libraries"
   ]
  },
  {
   "cell_type": "code",
   "execution_count": null,
   "metadata": {},
   "outputs": [],
   "source": [
    "sys.path.insert(0, os.environ['INSTALLPATH']+'/Libraries/LCLS')\n",
    "from LCLSdefault import *\n",
    "\n",
    "sys.path.insert(0, os.environ['INSTALLPATH']+'/Libraries/mattsLibraries')\n",
    "from picklez import *\n",
    "\n",
    "# Load in the get data library\n",
    "from dataAnalysis import *\n",
    "\n",
    "# Load in the batch library for lcls\n",
    "from lclsBatch import *"
   ]
  },
  {
   "cell_type": "markdown",
   "metadata": {},
   "source": [
    "## Grabbing point data across nodes"
   ]
  },
  {
   "cell_type": "code",
   "execution_count": null,
   "metadata": {
    "scrolled": true
   },
   "outputs": [],
   "source": [
    "detDict = {\n",
    "    'uvint':{'name': 'Acqiris','get-function':'getAcqirisSum2'},\n",
    "           'uvint1':{'name': 'Acqiris','get-function':'getAcqirisSum1'},\n",
    "           'gasPressure':{'name': 'CXI:MKS670:READINGGET','get-function':'getGasPressure'},\n",
    "           'xrayEnergy':{'name':'FEEGasDetEnergy','get-function': 'getXrayEnergy' },\n",
    "           'ebeamcharge':{'name':'EBeam', 'get-function': 'getEbeamCharge'},\n",
    "          'stageencoder':{'name':'CXI:LAS:MMN:04.RBV','get-function':'getStageEncoder'},\n",
    "          'ttfltpos':{'name':'CXI:TIMETOOL:FLTPOS', 'get-function': 'getTTFltPos'},\n",
    "          'vitpos':{'name':'LAS:FS5:VIT:FS_TGT_TIME_DIAL', 'get-function': 'getTTFltPos'},\n",
    "           'xint':{'name':'CxiDg3_Imb01','get-function': 'getIPM' },\n",
    "           'xpos':{'name':'CxiDg3_Imb01','get-function': 'getXPos' },\n",
    "           'ypos':{'name':'CxiDg3_Imb01','get-function': 'getYPos' },\n",
    "          'seconds':{'name':'seconds', 'get-function': 'getSeconds'},\n",
    "          'nanoseconds':{'name':'nanonseconds', 'get-function': 'getNanoseconds'},\n",
    "          'fiducials':{'name':'fiducials', 'get-function': 'getFiducials'},\n",
    "#           'roi1':{'name':'jungfrau4M', 'get-function': 'getCSPADsum1'},\n",
    "#           'roi2':{'name':'jungfrau4M', 'get-function': 'getCSPADsum2'},\n",
    "#           'roi3':{'name':'jungfrau4M', 'get-function': 'getCSPADsum3'},\n",
    "#           'roi4':{'name':'jungfrau4M', 'get-function': 'getCSPADsum4'},\n",
    "#           'roi4':{'name':'jungfrau4M', 'get-function': 'getCSPADsum4'},\n",
    "#           'rois':{'name':'jungfrau4M', 'get-function': 'getCSPADrois'},\n",
    "          'rois':{'name':'jungfrau4M', 'get-function': 'getRadialrois'},\n",
    "          'laserOn':{'name':'evr1', 'get-function': 'getLaserOn'},\n",
    "          'xrayOn':{'name':'evr1', 'get-function': 'getXrayOn'},\n",
    "          'photonHist':{'name':'jungfrau4M', 'get-function': 'getPhotonHistogram'}\n",
    "          }\n",
    "\n",
    "\n",
    "\n",
    "NSHOTS = 60000\n",
    "ngrab = 200\n",
    "rank = int( float(NSHOTS)/float(ngrab) )\n",
    "print('Grabbing %d shots, %d events at a time, on %d nodes' %(NSHOTS,ngrab,rank))\n",
    "batchThreads = batchPointDataGrabber( detDict, eventMax=int(rank*ngrab), experiment=experiment, runNumber=runNumber, rank=int(rank) )\n",
    "# batchThreads.Queue = 'psanaq'\n",
    "batchThreads.Queue = 'psfehhiprioq'\n",
    "batchThreads.RunType = 'python2'\n",
    "batchThreads.start()"
   ]
  },
  {
   "cell_type": "markdown",
   "metadata": {},
   "source": [
    "## Check job status"
   ]
  },
  {
   "cell_type": "code",
   "execution_count": null,
   "metadata": {
    "scrolled": true
   },
   "outputs": [],
   "source": [
    "stdoutdata, stderrdata = bjobs()\n",
    "print stdoutdata\n",
    "print stderrdata\n"
   ]
  },
  {
   "cell_type": "markdown",
   "metadata": {},
   "source": [
    "## Kill threads if they die"
   ]
  },
  {
   "cell_type": "code",
   "execution_count": null,
   "metadata": {},
   "outputs": [],
   "source": [
    "batchThreads.requestStop()\n",
    "# time.sleep(5)\n",
    "stdoutdata, stderrdata = bkill(killAll=True)\n",
    "print stdoutdata\n",
    "print stderrdata"
   ]
  },
  {
   "cell_type": "code",
   "execution_count": null,
   "metadata": {
    "scrolled": true
   },
   "outputs": [],
   "source": [
    "batchThreads.status"
   ]
  },
  {
   "cell_type": "code",
   "execution_count": null,
   "metadata": {},
   "outputs": [],
   "source": []
  },
  {
   "cell_type": "code",
   "execution_count": null,
   "metadata": {},
   "outputs": [],
   "source": [
    "batchThreads.gather()"
   ]
  },
  {
   "cell_type": "markdown",
   "metadata": {},
   "source": [
    "## Drop empty array values"
   ]
  },
  {
   "cell_type": "code",
   "execution_count": null,
   "metadata": {},
   "outputs": [],
   "source": [
    "batchThreads.detArrays['rois'].shape"
   ]
  },
  {
   "cell_type": "code",
   "execution_count": null,
   "metadata": {},
   "outputs": [],
   "source": [
    "pointData = batchThreads.detArrays\n",
    "# print pointData\n",
    "\n",
    "def dropEmpty(pointData):\n",
    "\n",
    "    pdc = {}\n",
    "    filledBin = (pointData['seconds'] > 0)\n",
    "\n",
    "    for key in pointData.keys():\n",
    "        try:\n",
    "            pdc[key]= np.copy(pointData[key][filledBin,:])\n",
    "        except IndexError as ie:\n",
    "            pdc[key]= np.copy(pointData[key][filledBin] )\n",
    "        \n",
    "    return pdc\n",
    "\n",
    "def dropNaN(pointData):\n",
    "    goodBin = np.ones(pointData['seconds'].shape, dtype=bool)\n",
    "    for key in pointData.keys():\n",
    "        try:\n",
    "            NX, NY = pointData[key].shape\n",
    "            print(pointData[key].shape)\n",
    "            goodBin = goodBin & ~np.isnan( np.sum(pointData[key],-1 ) )\n",
    "        except Exception:\n",
    "            goodBin = goodBin & ~np.isnan( pointData[key].astype(float) )\n",
    "            \n",
    "    for key in pointData.keys():\n",
    "        try:\n",
    "            pointData[key]=pointData[key][goodBin,:] \n",
    "        except IndexError as ie:\n",
    "            pointData[key]=pointData[key][goodBin] \n",
    "    return pointData\n",
    "\n",
    "print len(pointData['seconds'])\n",
    "pointData_masked = dropNaN(dropEmpty(pointData))\n",
    "print 'Number of good shots: ', len(pointData_masked['seconds'])\n",
    "print( np.sum( (pointData['seconds'] > 0) ) )"
   ]
  },
  {
   "cell_type": "markdown",
   "metadata": {},
   "source": [
    "## Save point data"
   ]
  },
  {
   "cell_type": "code",
   "execution_count": null,
   "metadata": {},
   "outputs": [],
   "source": [
    "save_obj( pointData, os.environ['RESULTSPATH']+'/pointData-run-%d' % runNumber )"
   ]
  },
  {
   "cell_type": "code",
   "execution_count": null,
   "metadata": {},
   "outputs": [],
   "source": [
    "print(os.environ['RESULTSPATH']+'/pointData-run-%d' % runNumber)"
   ]
  },
  {
   "cell_type": "code",
   "execution_count": null,
   "metadata": {},
   "outputs": [],
   "source": [
    "# pointData = load_obj(os.environ['RESULTSPATH']+'/pointData-run-%d' % 38)"
   ]
  },
  {
   "cell_type": "markdown",
   "metadata": {},
   "source": [
    "## Plot histogram of result"
   ]
  },
  {
   "cell_type": "code",
   "execution_count": null,
   "metadata": {},
   "outputs": [],
   "source": [
    "detArrays = pointData\n",
    "\n",
    "fig2, ax2 = plt.subplots(1, 1)\n",
    "ax2.hist(detArrays['stageencoder'], bins=100,normed=False, alpha=0.5);\n",
    "print(detArrays['xrayEnergy'].shape)\n",
    "# plt.savefig('runfolder/hist-xrayenergy')"
   ]
  },
  {
   "cell_type": "code",
   "execution_count": null,
   "metadata": {},
   "outputs": [],
   "source": [
    "adu = np.arange(200) * 10\n",
    "plt.semilogy(adu, np.nansum(detArrays['photonHist'],0));\n",
    "plt.xlabel('adu')\n",
    "plt.ylabel('counts')\n",
    "# plt.xlim(250,500)"
   ]
  },
  {
   "cell_type": "code",
   "execution_count": null,
   "metadata": {},
   "outputs": [],
   "source": [
    "detArrays = pointData\n",
    "\n",
    "fig2, ax2 = plt.subplots(1, 1)\n",
    "ax2.hist(detArrays['gasPressure'], bins=100,normed=False, alpha=0.5);\n",
    "# print(detArrays['xrayEnergy'].shape)\n",
    "# plt.savefig('runfolder/hist-xrayenergy')"
   ]
  },
  {
   "cell_type": "code",
   "execution_count": null,
   "metadata": {},
   "outputs": [],
   "source": [
    "detArrays['rois']"
   ]
  },
  {
   "cell_type": "code",
   "execution_count": null,
   "metadata": {},
   "outputs": [],
   "source": [
    "detArrays = pointData\n",
    "\n",
    "fig2, ax2 = plt.subplots(1, 1)\n",
    "ax2.hist(detArrays['rois'][:,15], bins=100,normed=False, alpha=0.5);\n",
    "# print(detArrays['xrayEnergy'].shape)\n",
    "# plt.savefig('runfolder/hist-xrayenergy')"
   ]
  },
  {
   "cell_type": "code",
   "execution_count": null,
   "metadata": {},
   "outputs": [],
   "source": [
    "x = np.linspace(0,1.5e5, 20)\n",
    "plt.plot(x,np.nanmean(detArrays['rois'][1:],0))\n",
    "plt.xlabel('pixel pos')\n",
    "plt.ylabel('mean adu')\n"
   ]
  },
  {
   "cell_type": "code",
   "execution_count": null,
   "metadata": {},
   "outputs": [],
   "source": [
    "plt.scatter(detArrays['rois'][detArrays['xrayOn'].astype(bool),3],detArrays['rois'][detArrays['xrayOn'].astype(bool),1])"
   ]
  },
  {
   "cell_type": "code",
   "execution_count": null,
   "metadata": {},
   "outputs": [],
   "source": [
    "detArrays = pointData\n",
    "\n",
    "fig2, ax2 = plt.subplots(1, 1)\n",
    "ax2.hist(detArrays['xrayOn'], bins=100,normed=False, alpha=0.5);"
   ]
  },
  {
   "cell_type": "code",
   "execution_count": null,
   "metadata": {},
   "outputs": [],
   "source": [
    "detArrays = pointData\n",
    "\n",
    "fig2, ax2 = plt.subplots(1, 1)\n",
    "ax2.hist(detArrays['laserOn'], bins=100,normed=False, alpha=0.5);"
   ]
  },
  {
   "cell_type": "markdown",
   "metadata": {},
   "source": [
    "# Get labtime to check for systematics"
   ]
  },
  {
   "cell_type": "code",
   "execution_count": null,
   "metadata": {},
   "outputs": [],
   "source": [
    "import datetime\n",
    "import matplotlib.dates as dates\n",
    "def getLabtime(second, microseconds):\n",
    "    refdate = datetime.datetime(1970,1,1)\n",
    "    td = datetime.timedelta(seconds=second,microseconds=microseconds)\n",
    "    return refdate+td\n",
    "\n",
    "labtime = np.array([getLabtime( s, float(ns)/1000. ) for s,ns in zip(detArrays['seconds'],detArrays['nanoseconds'])])"
   ]
  },
  {
   "cell_type": "code",
   "execution_count": null,
   "metadata": {},
   "outputs": [],
   "source": [
    "fig,ax= plt.subplots()\n",
    "date_form = dates.DateFormatter('%H:%M', tz=None)\n",
    "ax.plot(labtime, detArrays['roi1'], )\n",
    "ax.xaxis.set_major_formatter(date_form)"
   ]
  },
  {
   "cell_type": "markdown",
   "metadata": {},
   "source": [
    "# Check for correlation between rois"
   ]
  },
  {
   "cell_type": "code",
   "execution_count": null,
   "metadata": {},
   "outputs": [],
   "source": [
    "plt.scatter(detArrays['roi2'],detArrays['roi1'])\n",
    "plt.xlabel('Jungfrau sum 2')\n",
    "plt.ylabel('Jungfrau sum 1')"
   ]
  },
  {
   "cell_type": "markdown",
   "metadata": {},
   "source": [
    "# Look at ROIs vs. stage position"
   ]
  },
  {
   "cell_type": "code",
   "execution_count": null,
   "metadata": {},
   "outputs": [],
   "source": [
    "goodIdx = detArrays['laserOn'] & detArrays['xrayOn'] & ( detArrays['rois'][:,10] > 0 )\n",
    "pos = detArrays['stageencoder'][goodIdx] \n",
    "np.unique(pos)"
   ]
  },
  {
   "cell_type": "code",
   "execution_count": null,
   "metadata": {},
   "outputs": [],
   "source": [
    "nb=5\n",
    "bins = np.unique(pos)\n",
    "\n",
    "counts,edges = np.histogram( pos,bins=np.unique(pos))\n",
    "bins,edges = np.histogram( pos,bins=np.unique(pos), weights=(roi2)/(roi1+roi2+roi3))"
   ]
  },
  {
   "cell_type": "code",
   "execution_count": null,
   "metadata": {},
   "outputs": [],
   "source": [
    "plt.plot(edges[1:] , bins/counts )\n",
    "plt.xlabel(' CXI:LAS:MMN:04.RBV ')\n",
    "plt.ylabel(' roi1/roi2 ')\n",
    "# plt.savefig('run-13-t0.png')"
   ]
  }
 ],
 "metadata": {
  "kernelspec": {
   "display_name": "LCLS-I py2",
   "language": "python",
   "name": "ana1-current"
  },
  "language_info": {
   "codemirror_mode": {
    "name": "ipython",
    "version": 2
   },
   "file_extension": ".py",
   "mimetype": "text/x-python",
   "name": "python",
   "nbconvert_exporter": "python",
   "pygments_lexer": "ipython2",
   "version": "2.7.15"
  }
 },
 "nbformat": 4,
 "nbformat_minor": 2
}
