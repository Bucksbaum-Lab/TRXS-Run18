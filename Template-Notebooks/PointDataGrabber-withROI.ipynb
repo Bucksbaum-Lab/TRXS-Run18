{
 "cells": [
  {
   "cell_type": "markdown",
   "metadata": {},
   "source": [
    "# Experiment and path specification"
   ]
  },
  {
   "cell_type": "code",
   "execution_count": null,
   "metadata": {},
   "outputs": [],
   "source": [
    "# Specify the experiment for analysis\n",
    "# experiment='cxic00318'\n",
    "# runNumber = 123\n",
    "experiment='cxix40218'\n",
    "# runNumber=31 # includes cspad info\n",
    "# runNumber=32 # includes cspad info\n",
    "runNumber=33 # includes cspad info\n",
    "runNumber=29 # includes cspad info\n",
    "runNumber=28 # includes cspad info\n",
    "runNumber=27 # includes cspad info\n",
    "runNumber=26 # includes cspad info\n",
    "runNumber=14 # includes cspad info\n",
    "runNumber=13 # includes cspad info\n",
    "runNumber=21 # includes cspad info\n",
    "runNumber=37 # includes cspad info\n",
    "runNumber=39 # includes cspad info\n",
    "runNumber=49 # includes cspad info\n",
    "runNumber=50 # includes cspad info\n",
    "\n",
    "\n",
    "# Set the installation and output path\n",
    "import os\n",
    "os.environ['INSTALLPATH']= '/cds/home/i/igabalsk/TRXS-Run18'\n",
    "os.environ['OUTPUTPATH']= '/cds/data/psdm/%s/%s/scratch' % (experiment[0:3],experiment)"
   ]
  },
  {
   "cell_type": "markdown",
   "metadata": {},
   "source": [
    "# Import Libraries"
   ]
  },
  {
   "cell_type": "code",
   "execution_count": null,
   "metadata": {},
   "outputs": [],
   "source": [
    "# Magic iPython command to enable plotting\n",
    "%matplotlib inline\n",
    "\n",
    "# Load in the pythonBatchMagic library\n",
    "import sys\n",
    "sys.path.insert(0, os.environ['INSTALLPATH']+'/Libraries/pythonBatchMagic')\n",
    "from pythonBatchMagic import *\n",
    "\n",
    "# Determine current user\n",
    "currentUser, error = unixCMD(\"echo $USER\")\n",
    "currentUser = currentUser.strip()\n",
    "print(currentUser)\n",
    "os.environ['RESULTSPATH']= ('/cds/data/psdm/%s/%s/results/%s' % (experiment[0:3],experiment,currentUser)).strip()\n",
    "if not os.path.exists(os.environ['RESULTSPATH']):\n",
    "    os.mkdir(os.environ['RESULTSPATH'])"
   ]
  },
  {
   "cell_type": "markdown",
   "metadata": {},
   "source": [
    "# Leveraging the batch queue to quickly grab point data"
   ]
  },
  {
   "cell_type": "markdown",
   "metadata": {},
   "source": [
    "## Loading libraries"
   ]
  },
  {
   "cell_type": "code",
   "execution_count": null,
   "metadata": {},
   "outputs": [],
   "source": [
    "sys.path.insert(0, os.environ['INSTALLPATH']+'/Libraries/LCLS')\n",
    "from LCLSdefault import *\n",
    "\n",
    "sys.path.insert(0, os.environ['INSTALLPATH']+'/Libraries/mattsLibraries')\n",
    "from picklez import *\n",
    "\n",
    "# Load in the get data library\n",
    "from dataAnalysis import *\n",
    "\n",
    "# Load in the batch library for lcls\n",
    "from lclsBatch import *"
   ]
  },
  {
   "cell_type": "markdown",
   "metadata": {},
   "source": [
    "## Grabbing point data across nodes"
   ]
  },
  {
   "cell_type": "code",
   "execution_count": null,
   "metadata": {
    "scrolled": true
   },
   "outputs": [],
   "source": [
    "detDict = {\n",
    "    'uvint':{'name': 'Acqiris','get-function':'getAcqirisSum2'},\n",
    "           'uvint1':{'name': 'Acqiris','get-function':'getAcqirisSum1'},\n",
    "           'xrayEnergy':{'name':'FEEGasDetEnergy','get-function': 'getXrayEnergy' },\n",
    "           'ebeamcharge':{'name':'EBeam', 'get-function': 'getEbeamCharge'},\n",
    "          'stageencoder':{'name':'CXI:LAS:MMN:04.RBV','get-function':'getStageEncoder'},\n",
    "          'ttfltpos':{'name':'CXI:TIMETOOL:FLTPOS', 'get-function': 'getTTFltPos'},\n",
    "          'vitpos':{'name':'LAS:FS5:VIT:FS_TGT_TIME_DIAL', 'get-function': 'getTTFltPos'},\n",
    "           'xint':{'name':'CxiDg3_Imb01','get-function': 'getIPM' },\n",
    "           'xpos':{'name':'CxiDg3_Imb01','get-function': 'getXPos' },\n",
    "           'ypos':{'name':'CxiDg3_Imb01','get-function': 'getYPos' },\n",
    "          'seconds':{'name':'seconds', 'get-function': 'getSeconds'},\n",
    "          'nanoseconds':{'name':'nanonseconds', 'get-function': 'getNanoseconds'},\n",
    "          'fiducials':{'name':'fiducials', 'get-function': 'getFiducials'},\n",
    "          'roi1':{'name':'jungfrau4M', 'get-function': 'getCSPADsum1'},\n",
    "          'roi2':{'name':'jungfrau4M', 'get-function': 'getCSPADsum2'},\n",
    "          'roi3':{'name':'jungfrau4M', 'get-function': 'getCSPADsum3'},\n",
    "          'roi4':{'name':'jungfrau4M', 'get-function': 'getCSPADsum4'}\n",
    "          }\n",
    "\n",
    "\n",
    "\n",
    "NSHOTS = 100000\n",
    "ngrab = 1000\n",
    "rank = int( float(NSHOTS)/float(ngrab) )\n",
    "print('Grabbing %d shots, %d events at a time, on %d nodes' %(NSHOTS,ngrab,rank))\n",
    "batchThreads = batchPointDataGrabber( detDict, eventMax=int(rank*ngrab), experiment=experiment, runNumber=runNumber, rank=int(rank) )\n",
    "# batchThreads.Queue = 'psanaq'\n",
    "batchThreads.Queue = 'psfehhiprioq'\n",
    "batchThreads.RunType = 'python2'\n",
    "batchThreads.start()"
   ]
  },
  {
   "cell_type": "markdown",
   "metadata": {},
   "source": [
    "## Check job status"
   ]
  },
  {
   "cell_type": "code",
   "execution_count": null,
   "metadata": {
    "scrolled": true
   },
   "outputs": [],
   "source": [
    "stdoutdata, stderrdata = bjobs()\n",
    "print stdoutdata\n",
    "print stderrdata\n"
   ]
  },
  {
   "cell_type": "markdown",
   "metadata": {},
   "source": [
    "## Kill threads if they die"
   ]
  },
  {
   "cell_type": "code",
   "execution_count": null,
   "metadata": {},
   "outputs": [],
   "source": [
    "batchThreads.requestStop()\n",
    "# time.sleep(5)\n",
    "stdoutdata, stderrdata = bkill(killAll=True)\n",
    "print stdoutdata\n",
    "print stderrdata"
   ]
  },
  {
   "cell_type": "code",
   "execution_count": null,
   "metadata": {
    "scrolled": true
   },
   "outputs": [],
   "source": [
    "batchThreads.status"
   ]
  },
  {
   "cell_type": "code",
   "execution_count": null,
   "metadata": {},
   "outputs": [],
   "source": []
  },
  {
   "cell_type": "code",
   "execution_count": null,
   "metadata": {},
   "outputs": [],
   "source": [
    "batchThreads.gather()"
   ]
  },
  {
   "cell_type": "markdown",
   "metadata": {},
   "source": [
    "## Drop empty array values"
   ]
  },
  {
   "cell_type": "code",
   "execution_count": null,
   "metadata": {},
   "outputs": [],
   "source": [
    "batchThreads.detArrays['uvint'].shape"
   ]
  },
  {
   "cell_type": "code",
   "execution_count": null,
   "metadata": {},
   "outputs": [],
   "source": [
    "pointData = batchThreads.detArrays\n",
    "# print pointData\n",
    "\n",
    "def dropEmpty(pointData):\n",
    "\n",
    "    filledBin = (pointData['seconds'] > 0)\n",
    "\n",
    "    for key in pointData.keys():\n",
    "        pointData[key]=pointData[key][filledBin] \n",
    "        \n",
    "    return pointData\n",
    "\n",
    "def dropNaN(pointData):\n",
    "    goodBin = np.ones(pointData['seconds'].shape, dtype=bool)\n",
    "    for key in pointData.keys():\n",
    "        goodBin = goodBin & ~np.isnan(pointData[key])\n",
    "    for key in pointData.keys():\n",
    "        pointData[key]=pointData[key][goodBin]\n",
    "    return pointData\n",
    "\n",
    "print len(pointData['seconds'])\n",
    "pointData_masked = dropNaN(dropEmpty(pointData))\n",
    "print 'Number of good shots: ', len(pointData_masked['seconds'])"
   ]
  },
  {
   "cell_type": "markdown",
   "metadata": {},
   "source": [
    "## Save point data"
   ]
  },
  {
   "cell_type": "code",
   "execution_count": null,
   "metadata": {},
   "outputs": [],
   "source": [
    "save_obj( pointData, os.environ['RESULTSPATH']+'/pointData-run-%d' % runNumber )"
   ]
  },
  {
   "cell_type": "code",
   "execution_count": null,
   "metadata": {},
   "outputs": [],
   "source": [
    "# pointData = load_obj(os.environ['RESULTSPATH']+'/pointData-run-%d' % 38)"
   ]
  },
  {
   "cell_type": "markdown",
   "metadata": {},
   "source": [
    "## Plot histogram of result"
   ]
  },
  {
   "cell_type": "code",
   "execution_count": null,
   "metadata": {},
   "outputs": [],
   "source": [
    "detArrays = pointData\n",
    "\n",
    "fig2, ax2 = plt.subplots(1, 1)\n",
    "ax2.hist(detArrays['xrayEnergy'], bins=100,normed=False, alpha=0.5);"
   ]
  },
  {
   "cell_type": "code",
   "execution_count": null,
   "metadata": {},
   "outputs": [],
   "source": [
    "detArrays = pointData\n",
    "\n",
    "fig2, ax2 = plt.subplots(1, 1)\n",
    "ax2.hist(detArrays['stageencoder'], bins=200,normed=False, alpha=0.5);\n",
    "plt.xlabel(' CXI:LAS:MMN:04.RBV ')\n",
    "plt.ylabel(' counts per bin ')"
   ]
  },
  {
   "cell_type": "code",
   "execution_count": null,
   "metadata": {},
   "outputs": [],
   "source": [
    "plt.scatter(detArrays['uvint'],detArrays['xint'])"
   ]
  },
  {
   "cell_type": "code",
   "execution_count": null,
   "metadata": {},
   "outputs": [],
   "source": [
    "np.unique(detArrays['vitpos'])"
   ]
  },
  {
   "cell_type": "code",
   "execution_count": null,
   "metadata": {},
   "outputs": [],
   "source": [
    "plt.scatter(detArrays['roi2'],detArrays['roi1'])\n",
    "plt.xlabel('Jungfrau sum 2')\n",
    "plt.ylabel('Jungfrau sum 1')"
   ]
  },
  {
   "cell_type": "code",
   "execution_count": null,
   "metadata": {},
   "outputs": [],
   "source": [
    "goodIdx = detArrays['roi2'] > 1e4\n",
    "plt.scatter(detArrays['uvint'][goodIdx],detArrays['xint'][goodIdx])\n",
    "plt.xlabel('UV intensity')\n",
    "plt.ylabel('Photodiode / Gas det (arb)')\n"
   ]
  },
  {
   "cell_type": "code",
   "execution_count": null,
   "metadata": {},
   "outputs": [],
   "source": [
    "pos = detArrays['stageencoder'][goodIdx] \n",
    "roi1 = detArrays['roi1'][goodIdx]\n",
    "roi2 = detArrays['roi2'][goodIdx]\n",
    "roi3 = detArrays['roi3'][goodIdx]\n",
    "roi4 = detArrays['roi4'][goodIdx]\n",
    "# roi5 = detArrays['roi5'][goodIdx]\n",
    "# roi6 = detArrays['roi6'][goodIdx]\n",
    "# roi7 = detArrays['roi7'][goodIdx]\n",
    "# roi0 = detArrays['roi0'][goodIdx]\n",
    "np.unique(pos)"
   ]
  },
  {
   "cell_type": "code",
   "execution_count": null,
   "metadata": {},
   "outputs": [],
   "source": [
    "nb=5\n",
    "counts,edges = np.histogram( pos,bins=np.unique(pos))\n",
    "bins,edges = np.histogram( pos,bins=np.unique(pos), weights=(roi2-roi3)/(roi1+roi2+roi3))"
   ]
  },
  {
   "cell_type": "code",
   "execution_count": null,
   "metadata": {},
   "outputs": [],
   "source": [
    "plt.plot(edges[1:] , bins/counts )\n",
    "plt.xlabel(' CXI:LAS:MMN:04.RBV ')\n",
    "plt.ylabel(' roi1/roi2 ')\n",
    "# plt.savefig('run-13-t0.png')"
   ]
  },
  {
   "cell_type": "code",
   "execution_count": null,
   "metadata": {},
   "outputs": [],
   "source": [
    "goodVitPos = detArrays['vitpos'][goodIdx] \n",
    "uvB = detArrays['uvint'][goodIdx]\n",
    "uvA = detArrays['uvint1'][goodIdx]\n",
    "xint = detArrays['xrayEnergy'][goodIdx]"
   ]
  },
  {
   "cell_type": "code",
   "execution_count": null,
   "metadata": {},
   "outputs": [],
   "source": [
    "import scipy.stats\n",
    "diodeB = []\n",
    "diodeA = []\n",
    "xInt = []\n",
    "centers = []\n",
    "rs=[]\n",
    "for idx, b in enumerate(bins):\n",
    "    goodIdxs = (goodVitPos >= edges[idx]) & (goodVitPos < edges[idx+1])\n",
    "    diodeA = uvA[goodIdxs]\n",
    "    diodeB = uvB[goodIdxs]\n",
    "    xInt = xint[goodIdxs]\n",
    "    x= xInt\n",
    "    y=diodeB #/diodeA\n",
    "    try:\n",
    "        slope, intercept, r_value, p_value, std_err = scipy.stats.linregress(x, y)\n",
    "        centers.append( float(edges[idx+1] + edges[idx])/2.)\n",
    "        rs.append(r_value)\n",
    "    except ValueError:\n",
    "        continue\n",
    "        \n",
    "print(centers)"
   ]
  },
  {
   "cell_type": "code",
   "execution_count": null,
   "metadata": {},
   "outputs": [],
   "source": [
    "plt.plot(np.array(centers)*1e3,rs)\n",
    "plt.xlabel('vitara (ns)')\n",
    "plt.ylabel('R - Correlation coefficient')\n",
    "plt.title('Correlation coefficient for each delay position')\n",
    "# plt.savefig('correlation-coefficient-v-vitara-delay-run13.png')"
   ]
  },
  {
   "cell_type": "code",
   "execution_count": null,
   "metadata": {},
   "outputs": [],
   "source": [
    "\n",
    "diodeA"
   ]
  },
  {
   "cell_type": "code",
   "execution_count": null,
   "metadata": {},
   "outputs": [],
   "source": [
    "import scipy.stats\n",
    "x= xInt\n",
    "y=diodeB/diodeA\n",
    "slope, intercept, r_value, p_value, std_err = scipy.stats.linregress(x, y)\n",
    "\n",
    "print(\"slope: %f    intercept: %f\" % (slope, intercept))\n",
    "print(r_value)\n",
    "\n",
    "plt.scatter(xInt,diodeB/diodeA)\n",
    "plt.plot(xInt, slope*x + intercept)\n",
    "plt.ylabel('diodeB/diodeA')\n",
    "plt.xlabel('xray energy at gas det')\n",
    "plt.title('Best fit at 54 ps vitara delay')\n",
    "plt.savefig('vitara-fit-54ps-run13.png')"
   ]
  },
  {
   "cell_type": "code",
   "execution_count": null,
   "metadata": {},
   "outputs": [],
   "source": [
    "plt.hist(goodVitPos,100)"
   ]
  },
  {
   "cell_type": "markdown",
   "metadata": {},
   "source": [
    "# Quick fixes"
   ]
  },
  {
   "cell_type": "code",
   "execution_count": null,
   "metadata": {},
   "outputs": [],
   "source": [
    "detArrays0 = load_obj( BATCHDIR + '/Output/nodePointDataGrabber%d-run-%d' % (0, runNumber) )"
   ]
  },
  {
   "cell_type": "code",
   "execution_count": null,
   "metadata": {},
   "outputs": [],
   "source": [
    "detArrays0['uvint'].shape"
   ]
  },
  {
   "cell_type": "code",
   "execution_count": null,
   "metadata": {},
   "outputs": [],
   "source": [
    "startNode = 0\n",
    "rank = 20\n",
    "detArrays = None\n",
    "for node in range(0,rank):\n",
    "    try:\n",
    "        detArrays = load_obj( BATCHDIR + '/Output/nodePointDataGrabber%d-run-%d' % (node,runNumber) )\n",
    "        startNode = node\n",
    "        break\n",
    "    except IOError:\n",
    "        print('Could not read in node %d' % node)\n",
    "for node in range(startNode+1,rank):\n",
    "    try:\n",
    "        detArrays0 = load_obj( BATCHDIR + '/Output/nodePointDataGrabber%d-run-%d' % (node, runNumber) )\n",
    "        for key in detArrays.keys():\n",
    "            detArrays[key] = np.append(detArrays[key], detArrays0[key])\n",
    "#                     self.detArrays[key] += detArrays0[key]\n",
    "    except IOError:\n",
    "        print('Could not read in node %d' % node)"
   ]
  },
  {
   "cell_type": "code",
   "execution_count": null,
   "metadata": {},
   "outputs": [],
   "source": [
    "detArrays['uvint'].shape"
   ]
  },
  {
   "cell_type": "code",
   "execution_count": null,
   "metadata": {},
   "outputs": [],
   "source": [
    "detArrays.keys()"
   ]
  },
  {
   "cell_type": "code",
   "execution_count": null,
   "metadata": {},
   "outputs": [],
   "source": []
  }
 ],
 "metadata": {
  "kernelspec": {
   "display_name": "LCLS-I py2",
   "language": "python",
   "name": "ana1-current"
  },
  "language_info": {
   "codemirror_mode": {
    "name": "ipython",
    "version": 2
   },
   "file_extension": ".py",
   "mimetype": "text/x-python",
   "name": "python",
   "nbconvert_exporter": "python",
   "pygments_lexer": "ipython2",
   "version": "2.7.15"
  }
 },
 "nbformat": 4,
 "nbformat_minor": 2
}
