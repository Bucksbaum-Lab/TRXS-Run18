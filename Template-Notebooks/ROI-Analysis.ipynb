{
 "cells": [
  {
   "cell_type": "markdown",
   "metadata": {},
   "source": [
    "# Experiment and path specification"
   ]
  },
  {
   "cell_type": "code",
   "execution_count": null,
   "metadata": {},
   "outputs": [],
   "source": [
    "# Specify the experiment for analysis\n",
    "experiment='cxilu9218'\n",
    "runNumber = 21\n",
    "\n",
    "# Set the installation and output path\n",
    "import os\n",
    "os.environ['INSTALLPATH']= '/cds/home/i/igabalsk/TRXS-Run18'\n",
    "os.environ['OUTPUTPATH']= '/cds/data/psdm/%s/%s/scratch' % (experiment[0:3],experiment)"
   ]
  },
  {
   "cell_type": "markdown",
   "metadata": {},
   "source": [
    "# Import Libraries"
   ]
  },
  {
   "cell_type": "code",
   "execution_count": null,
   "metadata": {},
   "outputs": [],
   "source": [
    "# Magic iPython command to enable plotting\n",
    "%matplotlib inline\n",
    "\n",
    "# Load in the pythonBatchMagic library\n",
    "import sys\n",
    "sys.path.insert(0, os.environ['INSTALLPATH']+'/Libraries/pythonBatchMagic')\n",
    "from pythonBatchMagic import *\n",
    "# Determine current user\n",
    "currentUser, error = unixCMD(\"echo $USER\")\n",
    "print(currentUser)\n",
    "os.environ['RESULTSPATH']= ('/cds/data/psdm/%s/%s/results/%s' % (experiment[0:3],experiment,currentUser)).strip()\n",
    "if not os.path.exists(os.environ['RESULTSPATH']):\n",
    "    os.mkdir(os.environ['RESULTSPATH'])"
   ]
  },
  {
   "cell_type": "markdown",
   "metadata": {},
   "source": [
    "# Leveraging the batch queue to quickly grab point data"
   ]
  },
  {
   "cell_type": "markdown",
   "metadata": {},
   "source": [
    "## Loading libraries"
   ]
  },
  {
   "cell_type": "code",
   "execution_count": null,
   "metadata": {},
   "outputs": [],
   "source": [
    "sys.path.insert(0, os.environ['INSTALLPATH']+'/Libraries/LCLS')\n",
    "from LCLSdefault import *\n",
    "\n",
    "sys.path.insert(0, os.environ['INSTALLPATH']+'/Libraries/mattsTools')\n",
    "from picklez import *\n",
    "\n",
    "# Load in the get data library\n",
    "from dataAnalysis import *\n",
    "\n",
    "# Load in the batch library for lcls\n",
    "from lclsBatch import *"
   ]
  },
  {
   "cell_type": "markdown",
   "metadata": {},
   "source": [
    "# Load timebinned CSPAD"
   ]
  },
  {
   "cell_type": "markdown",
   "metadata": {},
   "source": [
    "### This can either take a timebinned single run (Section 1) or a set of separate runs at different time delays and stitch them into a single ROI analysis (Section 2)"
   ]
  },
  {
   "cell_type": "code",
   "execution_count": null,
   "metadata": {},
   "outputs": [],
   "source": [
    "# SECTION 1\n",
    "timebins = np.load(os.environ['RESULTSPATH']+'/timebins-run-%d.npy' % runNumber )\n",
    "CSPAD = np.load(os.environ['RESULTSPATH']+'/CSPAD-run-%d.npy' % runNumber)\n",
    "variance = np.load(os.environ['RESULTSPATH']+'/variance-run-%d.npy' % runNumber)\n",
    "counts = np.load(os.environ['RESULTSPATH']+'/counts-run-%d.npy' % runNumber)\n",
    "# END SECTION 1\n",
    "\n",
    "# SECTION 2\n",
    "# timebins_dict = {}\n",
    "# CSPAD_dict = {}\n",
    "# run_dict = {29:0, 31:1, 33:2, 32:3, 30:4, 28:5}\n",
    "# for run_number in [28, 29, 30, 31, 32, 33]:\n",
    "#     timebins_dict[run_number] = np.load(os.environ['RESULTSPATH']+'/timebins-run-%d.npy' % run_number )\n",
    "#     CSPAD_dict[run_number] = np.load(os.environ['RESULTSPATH']+'/CSPAD-run-%d.npy' % run_number)\n",
    "\n",
    "# CSPAD_summed = np.zeros((8,512,1024,6))\n",
    "# runs = []\n",
    "# for key in CSPAD_dict.keys():\n",
    "#     runs.append(key)\n",
    "#     CSPAD_run = np.nanmean(CSPAD_dict[key], axis=-1)\n",
    "#     index = run_dict[key]\n",
    "#     print key, index, np.mean(CSPAD_run), np.nansum(CSPAD_dict[key])\n",
    "#     CSPAD_summed[:,:,:,index] = CSPAD_run\n",
    "# print runs\n",
    "# END SECTION 2"
   ]
  },
  {
   "cell_type": "markdown",
   "metadata": {},
   "source": [
    "# Plot CSPAD"
   ]
  },
  {
   "cell_type": "code",
   "execution_count": null,
   "metadata": {},
   "outputs": [],
   "source": [
    "# print '{0:<5} {1:>5} {2:>8} {3:>8}'.format('Index','Count','Mean', 'Timebin')\n",
    "# for i in range(CSPAD.shape[-1]):\n",
    "#     if not np.isnan(counts[i][0]):\n",
    "#         vals = (i, int(counts[i][0]), round(np.mean(CSPAD[:,:,:,i]),3), round(timebins[i],3))\n",
    "#         print '{0:<5} {1:>5} {2:>8} {3:>8} '.format(*vals)\n",
    "        \n",
    "        \n",
    "# # print '{0:<5} {1:>5} {2:>8} {3:>8} {4:>8}'.format('Index','Count','Sum','Median','Variance')\n",
    "# # for i in range(CSPAD.shape[-1]):\n",
    "# #     if counts[i][0]>0:\n",
    "# #         vals = (i, counts[i][0], round(np.sum(CSPAD[:,:,:,i])),round(np.median(CSPAD[:,:,:,i]),4), round(np.var(CSPAD[:,:,:,i]),4))\n",
    "# #         print '{0:<5} {1:>5} {2:>8} {3:>8} {4:>8}'.format(*vals)"
   ]
  },
  {
   "cell_type": "markdown",
   "metadata": {},
   "source": [
    "### This has a modified plotCSPAD() function that can take in a list of tile indices for each ROI and plot the ROIs as bright spots"
   ]
  },
  {
   "cell_type": "code",
   "execution_count": null,
   "metadata": {},
   "outputs": [],
   "source": [
    "CSPADbinned = np.copy(CSPAD)\n",
    "CSPADbinned[CSPADbinned>750]=0\n",
    "\n",
    "\n",
    "from scipy.ndimage.filters import gaussian_filter\n",
    "sigma = 10\n",
    "\n",
    "CSPADblurred = np.zeros(CSPAD.shape)\n",
    "for i in range(CSPAD.shape[-1]):\n",
    "    if not np.isnan(counts[i][0]):\n",
    "        for j, tile in enumerate(CSPADbinned[:,:,:,i]):\n",
    "            CSPADblurred[j,:,:,i] = gaussian_filter(tile, sigma=sigma)"
   ]
  },
  {
   "cell_type": "code",
   "execution_count": null,
   "metadata": {},
   "outputs": [],
   "source": [
    "from IPython.display import clear_output\n",
    "from plotStyles import *\n",
    "\n",
    "def plotCSPAD( cspad , x , y, cspadMask=None, zLims = None, divergent=False, NTILE=8, ROIs=None ):\n",
    "    figOpts = {'xLims':[-1e5,1e5],'yLims':[-1e5,1e5],'divergent':divergent, 'xIn':3, 'yIn':3*11.5/14.5}\n",
    "    \n",
    "    if zLims is not None:\n",
    "        figOpts['zLims'] = zLims\n",
    "    \n",
    "    for iTile in range(NTILE):\n",
    "    \n",
    "        if cspadMask is not None:\n",
    "            cspadTile = cspad[iTile,:,:]\n",
    "            tileMask = ~cspadMask[iTile,:,:]\n",
    "            cspadTile[tileMask] = 0\n",
    "        if ROIs:\n",
    "            for mask in ROIs:\n",
    "                print cspadTile.shape, mask[iTile].shape\n",
    "                cspadTile[mask[iTile]] = 1000\n",
    "        \n",
    "        if iTile == 0:\n",
    "            newFigure = True\n",
    "        else:\n",
    "            newFigure = False\n",
    "        \n",
    "        clear_output()\n",
    "        colorPlot( x[iTile,:,:], y[iTile,:,:], cspadTile , newFigure=newFigure, **figOpts);\n",
    "\n",
    "\n",
    "x,y = CSPADgeometry(detType='Jungfrau', run=runNumber, experiment=experiment)\n",
    "# cspadMask = createMask(experiment=experiment, run=runNumber, detType='Jungfrau').astype(bool)\n",
    "cspadMask = np.ones_like(x).astype(bool)\n",
    "print(cspadMask.shape)\n",
    "\n",
    "# off = np.nanmean(CSPADblurred[:,:,:,:], axis=-1)\n",
    "# scaling = 1\n",
    "# for frame in CSPADblurred.transpose(3,0,1,2):\n",
    "#     newscaling = np.min(frame/off)\n",
    "#     if newscaling<scaling and newscaling>0:\n",
    "#         scaling = newscaling\n",
    "# print 'Scaling: ',scaling\n"
   ]
  },
  {
   "cell_type": "code",
   "execution_count": null,
   "metadata": {},
   "outputs": [],
   "source": [
    "CSPAD_summed = np.nanmean(CSPADbinned, axis=-1)\n",
    "CSPAD2plot = CSPAD[:,:,:,25]-scaling*CSPAD[:,:,:,1]\n",
    "plotCSPAD( CSPAD2plot, x , y , zLims=[-1,1],\n",
    "          cspadMask=cspadMask, divergent=True, NTILE=8, ROIs=[mask0, mask1] )"
   ]
  },
  {
   "cell_type": "code",
   "execution_count": null,
   "metadata": {},
   "outputs": [],
   "source": [
    "# print '{0:<5} {1:>5} {2:>8} {3:>8} {4:>8}'.format('Index','Count','Sum','Median','Variance')\n",
    "# for i in range(CSPAD.shape[-1]):\n",
    "#     if counts[i][0]>0:\n",
    "#         vals = (i, counts[i][0], round(np.sum(CSPAD[:,:,:,i])),round(np.median(CSPAD[:,:,:,i]),4), round(np.var(CSPAD[:,:,:,i]),4))\n",
    "#         print '{0:<5} {1:>5} {2:>8} {3:>8} {4:>8}'.format(*vals)"
   ]
  },
  {
   "cell_type": "code",
   "execution_count": null,
   "metadata": {},
   "outputs": [],
   "source": [
    "print np.nanmean(CSPAD), np.nanmedian(CSPAD)"
   ]
  },
  {
   "cell_type": "markdown",
   "metadata": {},
   "source": [
    "# ROI analysis"
   ]
  },
  {
   "cell_type": "code",
   "execution_count": null,
   "metadata": {},
   "outputs": [],
   "source": [
    "def roiSummed( x0, y0, dx, dy, x, y, image ):\n",
    "    idx = ( x0 < x ) & ( (x0+dx) > x ) & ( y0 < y ) & ( (y0+dy) > y )\n",
    "    return np.sum( image[idx , :] , 0 )\n",
    "\n",
    "def roiSummedRadial(r0, dr, x, y, image):\n",
    "    idx = (r0<np.sqrt(x**2+y**2)) & ((r0+dr)>np.sqrt(x**2+y**2))\n",
    "    return np.sum(image[idx, :],0)\n",
    "\n",
    "def roiMaskRadial(r0, dr, x, y):\n",
    "    return (r0<np.sqrt(x**2+y**2)) & ((r0+dr)>np.sqrt(x**2+y**2))\n",
    "\n",
    "def roiSummedIdx(tile, image):\n",
    "    return np.sum(image[tile,206:306,462:572])\n",
    "\n",
    "x0, y0 = -2e4, -2.5e4\n",
    "x1, y1 = 5e4, -2e4\n",
    "dx, dy = 1.5e4, 1.5e4\n",
    "\n",
    "r0, r1, dr = 1e4, 3e4, 1e4\n",
    "mask0 = roiMaskRadial(r0, dr, x, y)\n",
    "mask1 = roiMaskRadial(r1, dr, x, y)\n",
    "\n",
    "\n",
    "# roi1 = roiSummed( x0, y0, dx, dy, x, y, CSPADbinned )\n",
    "# errroi1 = roiSummed( x0, y0, dx, dy, x, y, variance )\n",
    "# roi2 = roiSummed( x1, y1, dx, dy, x, y, CSPADbinned )\n",
    "# errroi2 = roiSummed( x1, y1, dx, dy, x, y, variance )\n",
    "# roi1 = roiSummed( x0, y0, dx, dy, x, y, CSPAD_summed )\n",
    "# errroi1 = roiSummed( x0, y0, dx, dy, x, y, variance )\n",
    "# roi2 = roiSummed( x1, y1, dx, dy, x, y, CSPAD_summed )\n",
    "# errroi2 = roiSummed( x1, y1, dx, dy, x, y, variance )\n",
    "\n",
    "# errorratio = 1/roi2*np.sqrt(errroi1)+roi1/roi2**2*np.sqrt(errroi2)\n",
    "roi1 = roiSummedRadial(r0, dr, x, y, CSPADblurred)\n",
    "roi2 = roiSummedRadial(r1, dr, x, y, CSPADblurred)\n",
    "\n",
    "ratio = roi1/roi2\n",
    "plotme = ratio[~np.isnan(ratio)]#-ratio[~np.isnan(ratio)].min()\n",
    "print ratio\n",
    "# linePlot( timebins[~np.isnan(ratio)], plotme , newFigure = True)\n",
    "print timebins[~np.isnan(roi2)].shape, plotme.shape\n",
    "linePlot( timebins[~np.isnan(ratio)], plotme , newFigure = True)\n",
    "\n",
    "# plt.errorbar( timebins[~np.isnan(ratio)], plotme, yerr = errorratio[~np.isnan(ratio)] )"
   ]
  }
 ],
 "metadata": {
  "kernelspec": {
   "display_name": "LCLS-I py2",
   "language": "python",
   "name": "ana1-current"
  },
  "language_info": {
   "codemirror_mode": {
    "name": "ipython",
    "version": 2
   },
   "file_extension": ".py",
   "mimetype": "text/x-python",
   "name": "python",
   "nbconvert_exporter": "python",
   "pygments_lexer": "ipython2",
   "version": "2.7.15"
  }
 },
 "nbformat": 4,
 "nbformat_minor": 2
}
