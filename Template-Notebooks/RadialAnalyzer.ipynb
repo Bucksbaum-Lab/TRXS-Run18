{
 "cells": [
  {
   "cell_type": "markdown",
   "metadata": {},
   "source": [
    "# Experiment and path specification"
   ]
  },
  {
   "cell_type": "code",
   "execution_count": null,
   "metadata": {},
   "outputs": [],
   "source": [
    "# Specify the experiment for analysis\n",
    "# experiment='cxic00318'\n",
    "# runNumber = 123\n",
    "# experiment='cxix40218'\n",
    "experiment='cxilu9218'\n",
    "# runNumber=31 # includes cspad info\n",
    "# runNumber=32 # includes cspad info\n",
    "runNumber=33 # includes cspad info\n",
    "runNumber=29 # includes cspad info\n",
    "runNumber=28 # includes cspad info\n",
    "runNumber=27 # includes cspad info\n",
    "runNumber=26 # includes cspad info\n",
    "runNumber=14 # includes cspad info\n",
    "runNumber=13 # includes cspad info\n",
    "runNumber=21 # includes cspad info\n",
    "runNumber=37 # includes cspad info\n",
    "runNumber=39 # includes cspad info\n",
    "runNumber=49 # includes cspad info\n",
    "runNumber=50 # includes cspad info\n",
    "runNumber=14 # includes cspad info\n",
    "runNumber=64 # includes cspad info\n",
    "\n",
    "\n",
    "# Set the installation and output path\n",
    "import os\n",
    "os.environ['INSTALLPATH']= '/cds/home/m/mrware/TRXS-dev/TRXS-Run18v3'\n",
    "os.environ['OUTPUTPATH']= '/cds/data/psdm/%s/%s/scratch' % (experiment[0:3],experiment)"
   ]
  },
  {
   "cell_type": "markdown",
   "metadata": {},
   "source": [
    "# Import Libraries"
   ]
  },
  {
   "cell_type": "code",
   "execution_count": null,
   "metadata": {},
   "outputs": [],
   "source": [
    "# Magic iPython command to enable plotting\n",
    "%matplotlib inline\n",
    "\n",
    "# Load in the pythonBatchMagic library\n",
    "import sys\n",
    "sys.path.insert(0, os.environ['INSTALLPATH']+'/Libraries/pythonBatchMagic')\n",
    "from pythonBatchMagic import *\n",
    "\n",
    "# Determine current user\n",
    "currentUser, error = unixCMD(\"echo $USER\")\n",
    "currentUser = currentUser.strip()\n",
    "print(currentUser)\n",
    "os.environ['RESULTSPATH']= ('/cds/data/psdm/%s/%s/results/%s' % (experiment[0:3],experiment,currentUser)).strip()\n",
    "if not os.path.exists(os.environ['RESULTSPATH']):\n",
    "    os.mkdir(os.environ['RESULTSPATH'])"
   ]
  },
  {
   "cell_type": "markdown",
   "metadata": {},
   "source": [
    "# Leveraging the batch queue to quickly grab point data"
   ]
  },
  {
   "cell_type": "markdown",
   "metadata": {},
   "source": [
    "## Loading libraries"
   ]
  },
  {
   "cell_type": "code",
   "execution_count": null,
   "metadata": {},
   "outputs": [],
   "source": [
    "sys.path.insert(0, os.environ['INSTALLPATH']+'/Libraries/LCLS')\n",
    "from LCLSdefault import *\n",
    "\n",
    "sys.path.insert(0, os.environ['INSTALLPATH']+'/Libraries/mattsLibraries')\n",
    "from picklez import *\n",
    "\n",
    "# Load in the get data library\n",
    "from dataAnalysis import *\n",
    "\n",
    "# Load in the batch library for lcls\n",
    "from lclsBatch import *"
   ]
  },
  {
   "cell_type": "markdown",
   "metadata": {},
   "source": [
    "## Load point data"
   ]
  },
  {
   "cell_type": "code",
   "execution_count": null,
   "metadata": {},
   "outputs": [],
   "source": [
    "runNumber = 18\n",
    "detArrays = load_obj(os.environ['RESULTSPATH']+'/pointData-run-%d' % runNumber)"
   ]
  },
  {
   "cell_type": "code",
   "execution_count": null,
   "metadata": {},
   "outputs": [],
   "source": [
    "detArrays['ttfltpos'].shape"
   ]
  },
  {
   "cell_type": "code",
   "execution_count": null,
   "metadata": {},
   "outputs": [],
   "source": [
    "detArrays['stageencoder'].shape"
   ]
  },
  {
   "cell_type": "code",
   "execution_count": null,
   "metadata": {},
   "outputs": [],
   "source": [
    "detArrays['rois'].shape"
   ]
  },
  {
   "cell_type": "code",
   "execution_count": null,
   "metadata": {},
   "outputs": [],
   "source": [
    "detArrays['laserOn'].shape"
   ]
  },
  {
   "cell_type": "code",
   "execution_count": null,
   "metadata": {},
   "outputs": [],
   "source": [
    "detArrays['xrayOn'].shape"
   ]
  },
  {
   "cell_type": "markdown",
   "metadata": {},
   "source": [
    "## Plot histogram of result"
   ]
  },
  {
   "cell_type": "code",
   "execution_count": null,
   "metadata": {},
   "outputs": [],
   "source": [
    "fig2, ax2 = plt.subplots(1, 1)\n",
    "ax2.hist(detArrays['stageencoder'], bins=100,normed=False, alpha=0.5);\n",
    "print(detArrays['xrayEnergy'].shape)\n",
    "# plt.savefig('runfolder/hist-xrayenergy')"
   ]
  },
  {
   "cell_type": "code",
   "execution_count": null,
   "metadata": {},
   "outputs": [],
   "source": [
    "adu = np.arange(200) * 10\n",
    "plt.semilogy(adu, np.nansum(detArrays['photonHist'][detArrays['xrayOn']],0));\n",
    "plt.xlabel('adu')\n",
    "plt.ylabel('counts')\n",
    "# plt.xlim(250,500)"
   ]
  },
  {
   "cell_type": "code",
   "execution_count": null,
   "metadata": {},
   "outputs": [],
   "source": [
    "\n",
    "\n",
    "fig2, ax2 = plt.subplots(1, 1)\n",
    "ax2.hist(detArrays['gasPressure'], bins=100,normed=False, alpha=0.5);\n",
    "# print(detArrays['xrayEnergy'].shape)\n",
    "# plt.savefig('runfolder/hist-xrayenergy')"
   ]
  },
  {
   "cell_type": "code",
   "execution_count": null,
   "metadata": {},
   "outputs": [],
   "source": [
    "detArrays['rois']"
   ]
  },
  {
   "cell_type": "code",
   "execution_count": null,
   "metadata": {},
   "outputs": [],
   "source": [
    "\n",
    "\n",
    "fig2, ax2 = plt.subplots(1, 1)\n",
    "ax2.hist(detArrays['rois'][:,15], bins=100,normed=False, alpha=0.5);\n",
    "# print(detArrays['xrayEnergy'].shape)\n",
    "# plt.savefig('runfolder/hist-xrayenergy')"
   ]
  },
  {
   "cell_type": "code",
   "execution_count": null,
   "metadata": {},
   "outputs": [],
   "source": [
    "x = np.linspace(0,1.5e5, 20)\n",
    "plt.plot(x,np.nanmean(detArrays['rois'][1:],0))\n",
    "plt.xlabel('pixel pos')\n",
    "plt.ylabel('mean adu')\n"
   ]
  },
  {
   "cell_type": "code",
   "execution_count": null,
   "metadata": {},
   "outputs": [],
   "source": [
    "plt.scatter(detArrays['rois'][detArrays['xrayOn'].astype(bool),3],detArrays['rois'][detArrays['xrayOn'].astype(bool),10])"
   ]
  },
  {
   "cell_type": "markdown",
   "metadata": {},
   "source": [
    "# Look at ROIs vs. stage position"
   ]
  },
  {
   "cell_type": "code",
   "execution_count": null,
   "metadata": {},
   "outputs": [],
   "source": [
    "goodIdx = detArrays['laserOn'] & detArrays['xrayOn'] & ( detArrays['rois'][:,10] > 0 )\n",
    "pos = detArrays['stageencoder'][goodIdx] \n",
    "ttpos = detArrays['ttfltpos'][goodIdx]\n",
    "goodRois = detArrays['rois'][goodIdx,:]\n",
    "print(goodRois.shape)\n",
    "roi1 = np.sum(goodRois, -1)\n",
    "plotMe = ((goodRois.T)/(roi1.T)).T\n",
    "print(plotMe.shape,pos.shape)\n",
    "plt.scatter(pos,  plotMe[:,14]);\n",
    "\n",
    "roi1 = np.nanmean(plotMe[pos>56.35,:],0  )\n",
    "roi2 = np.nanmean(plotMe[pos<56.35,:],0)\n",
    "print(roi1.shape)\n",
    "for el in (roi1-roi2):\n",
    "    print('%.7f'%el)"
   ]
  },
  {
   "cell_type": "code",
   "execution_count": null,
   "metadata": {},
   "outputs": [],
   "source": []
  },
  {
   "cell_type": "code",
   "execution_count": null,
   "metadata": {},
   "outputs": [],
   "source": [
    "plt.plot(np.sort(np.unique(pos,axis=None)))"
   ]
  },
  {
   "cell_type": "code",
   "execution_count": null,
   "metadata": {},
   "outputs": [],
   "source": [
    "db = 1e-3\n",
    "bins = np.unique(pos) - db\n",
    "bins = np.append(bins, bins[-1]+ 2*db)\n",
    "nb = bins.size\n",
    "nr = 20\n",
    "\n",
    "def createBinsFromCenters(centers):\n",
    "    bins = []\n",
    "    nc = centers.size\n",
    "    for idx,c in enumerate(centers):\n",
    "        if idx == 0:\n",
    "            dc = np.abs( c - centers[idx])/2.\n",
    "            bins.append(c-dc)\n",
    "            bins.append(c+dc)\n",
    "        elif idx == nc-1:\n",
    "            dc = np.abs( c - centers[idx-1])/2.\n",
    "            bins.append(c+dc)\n",
    "        else:\n",
    "            dc = np.abs( c - centers[idx+1])/2.\n",
    "            bins.append(c+dc)\n",
    "#         print(dc)\n",
    "    return np.array(bins)\n",
    "\n",
    "def determineGoodCenters( pos ):\n",
    "    upos = np.unique(pos)\n",
    "    gpos = []\n",
    "    for idx,up in enumerate(upos):\n",
    "        c = np.sum(upos == up)\n",
    "        if c>10:\n",
    "            gpos.append()\n",
    "        \n",
    "bins = createBinsFromCenters(  np.sort(np.unique(pos,axis=None)).flatten())\n",
    "# print(bins)\n",
    "\n",
    "weightMe = ((goodRois.T)/(roi1.T)).T\n",
    "# weightMe = (goodRois)\n",
    "print(pos.size)\n",
    "print(weightMe.shape)\n",
    "radialHist = np.zeros((nb-1,nr))\n",
    "radialAvg = np.zeros((nb-1,nr))\n",
    "counts,edges = np.histogram( pos,bins=bins)\n",
    "for ir in range(nr):\n",
    "\n",
    "    radialHist[:,ir],edges = np.histogram( pos,bins=bins, weights=weightMe[:,ir])\n",
    "    radialAvg[:,ir] = radialHist[:,ir] / counts\n",
    "    \n",
    "# print(counts)"
   ]
  },
  {
   "cell_type": "code",
   "execution_count": null,
   "metadata": {},
   "outputs": [],
   "source": [
    "# print(plot2d.shape)"
   ]
  },
  {
   "cell_type": "code",
   "execution_count": null,
   "metadata": {},
   "outputs": [],
   "source": [
    "np.sum(counts)"
   ]
  },
  {
   "cell_type": "code",
   "execution_count": null,
   "metadata": {},
   "outputs": [],
   "source": [
    "centers = np.sort(np.unique(pos,axis=None)).flatten()\n",
    "\n",
    "plot2d= (radialAvg) #/avgAll\n",
    "avgAll = np.mean( plot2d[counts>100,:][-3:,:], 0 )\n",
    "plot2d = (plot2d-avgAll) #/avgAll\n",
    "dv = .002\n",
    "# dv = .003\n",
    "# dv = .001\n",
    "# qs = x/ 31578.94736842 * 3.5\n",
    "plt.pcolormesh(x, centers[counts>100], plot2d[counts>100,:], vmin = -dv, vmax = dv )\n",
    "plt.colorbar()\n",
    "plt.xlabel('pixel pos (um)')\n",
    "plt.ylabel('delay (mm)')\n",
    "plt.title('I - I(delay<56.35) for run %d' %runNumber)\n",
    "print(x)"
   ]
  },
  {
   "cell_type": "code",
   "execution_count": null,
   "metadata": {},
   "outputs": [],
   "source": [
    "plot2d"
   ]
  },
  {
   "cell_type": "markdown",
   "metadata": {},
   "source": [
    "# Repeat with timetool correction"
   ]
  },
  {
   "cell_type": "code",
   "execution_count": null,
   "metadata": {},
   "outputs": [],
   "source": [
    "ttpoly = [2.95684259e-06, -1.43969413e-03]\n",
    "def ttcorr(ttpos,ttpoly):\n",
    "    return ttpoly[0]*ttpos+ttpoly[1]\n",
    "truepos = -(pos-56.35) / (3e-4)  + ttcorr(ttpos,ttpoly)*1.0e6\n",
    "posfs = -(pos-56.35) / (3e-4) \n",
    "\n",
    "plt.hist(truepos,bins=100);\n",
    "plt.xlabel('pump-probe delay (fs)')\n",
    "plt.ylabel('counts')\n",
    "plt.xlim([-2000,5000])\n",
    "plt.title('pump-probe delay histogram for run %d' % runNumber)\n"
   ]
  },
  {
   "cell_type": "code",
   "execution_count": null,
   "metadata": {},
   "outputs": [],
   "source": []
  },
  {
   "cell_type": "code",
   "execution_count": null,
   "metadata": {},
   "outputs": [],
   "source": [
    "db = 1e-3\n",
    "bins = np.unique(pos) - db\n",
    "bins = np.append(bins, bins[-1]+ 2*db)\n",
    "nb = bins.size\n",
    "nr = 20\n",
    "\n",
    "def createBinsFromCenters(centers):\n",
    "    bins = []\n",
    "    nc = centers.size\n",
    "    for idx,c in enumerate(centers):\n",
    "        if idx == 0:\n",
    "            dc = np.abs( c - centers[idx])/2.\n",
    "            bins.append(c-dc)\n",
    "            bins.append(c+dc)\n",
    "        elif idx == nc-1:\n",
    "            dc = np.abs( c - centers[idx-1])/2.\n",
    "            bins.append(c+dc)\n",
    "        else:\n",
    "            dc = np.abs( c - centers[idx+1])/2.\n",
    "            bins.append(c+dc)\n",
    "#         print(dc)\n",
    "    return np.array(bins)\n",
    "\n",
    "def determineGoodCenters( pos ):\n",
    "    upos = np.unique(pos)\n",
    "    gpos = []\n",
    "    for idx,up in enumerate(upos):\n",
    "        c = np.sum(upos == up)\n",
    "        if c>10:\n",
    "            gpos.append()\n",
    "        \n",
    "centers = np.sort(np.unique(posfs,axis=None)).flatten()\n",
    "bins = createBinsFromCenters(  centers )\n",
    "# print(bins)\n",
    "\n",
    "\n",
    "weightMe = ((goodRois.T)/(roi1.T)).T\n",
    "\n",
    "radialHist = np.zeros((nb-1,nr))\n",
    "radialAvg = np.zeros((nb-1,nr))\n",
    "counts,edges = np.histogram( truepos,bins=bins)\n",
    "for ir in range(nr):\n",
    "\n",
    "    radialHist[:,ir],edges = np.histogram( truepos,bins=bins, weights=weightMe[:,ir])\n",
    "    radialAvg[:,ir] = radialHist[:,ir] / counts\n",
    "    \n",
    "# print(counts)"
   ]
  },
  {
   "cell_type": "code",
   "execution_count": null,
   "metadata": {},
   "outputs": [],
   "source": [
    "plot2d= (radialAvg) #/avgAll\n",
    "avgAll = np.mean( plot2d[counts>100,:][:2,:], 0 )\n",
    "plot2d = (plot2d-avgAll) #/avgAll\n",
    "dv = .001\n",
    "# dv = .003\n",
    "# dv = .001\n",
    "# qs = x/ 31578.94736842 * 3.5\n",
    "plt.pcolormesh(x, centers[counts>100], plot2d[counts>100,:], vmin = -dv, vmax = dv )\n",
    "plt.colorbar()\n",
    "plt.xlabel('pixel pos (um)')\n",
    "plt.ylabel('delay (fs)')\n",
    "plt.title('I - I(delay<56.35) for run %d' %runNumber)\n",
    "# plt.ylim([-500,1000])\n",
    "print(x)"
   ]
  },
  {
   "cell_type": "code",
   "execution_count": null,
   "metadata": {},
   "outputs": [],
   "source": [
    "plot2d[counts>100,:]"
   ]
  },
  {
   "cell_type": "code",
   "execution_count": null,
   "metadata": {},
   "outputs": [],
   "source": [
    "weightMe.shape"
   ]
  },
  {
   "cell_type": "code",
   "execution_count": null,
   "metadata": {},
   "outputs": [],
   "source": []
  }
 ],
 "metadata": {
  "kernelspec": {
   "display_name": "LCLS-I py2",
   "language": "python",
   "name": "ana1-current"
  },
  "language_info": {
   "codemirror_mode": {
    "name": "ipython",
    "version": 2
   },
   "file_extension": ".py",
   "mimetype": "text/x-python",
   "name": "python",
   "nbconvert_exporter": "python",
   "pygments_lexer": "ipython2",
   "version": "2.7.15"
  }
 },
 "nbformat": 4,
 "nbformat_minor": 2
}
