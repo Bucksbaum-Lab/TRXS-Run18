{
 "cells": [
  {
   "cell_type": "markdown",
   "metadata": {},
   "source": [
    "# Experiment and path specification"
   ]
  },
  {
   "cell_type": "code",
   "execution_count": 1,
   "metadata": {},
   "outputs": [],
   "source": [
    "# Specify the experiment for analysis\n",
    "experiment='cxic00318'\n",
    "runNumber = 200\n",
    "\n",
    "# Set the installation and output path\n",
    "import os\n",
    "os.environ['INSTALLPATH']= '/cds/home/i/igabalsk/TRXS-Run18'\n",
    "os.environ['OUTPUTPATH']= '/cds/data/psdm/%s/%s/scratch' % (experiment[0:3],experiment)"
   ]
  },
  {
   "cell_type": "markdown",
   "metadata": {},
   "source": [
    "# Import Libraries"
   ]
  },
  {
   "cell_type": "code",
   "execution_count": 2,
   "metadata": {},
   "outputs": [
    {
     "name": "stdout",
     "output_type": "stream",
     "text": [
      "Current user is igabalsk will output batch to /cds/data/psdm/cxi/cxic00318/scratch/igabalsk/Batch\n",
      "igabalsk\n"
     ]
    }
   ],
   "source": [
    "# Magic iPython command to enable plotting\n",
    "%matplotlib inline\n",
    "\n",
    "# Load in the pythonBatchMagic library\n",
    "import sys\n",
    "sys.path.insert(0, os.environ['INSTALLPATH']+'/Libraries/pythonBatchMagic')\n",
    "from pythonBatchMagic import *\n",
    "\n",
    "# Determine current user\n",
    "currentUser, error = unixCMD(\"echo $USER\")\n",
    "currentUser = currentUser.strip()\n",
    "print(currentUser)\n",
    "os.environ['RESULTSPATH']= ('/cds/data/psdm/%s/%s/results/%s' % (experiment[0:3],experiment,currentUser)).strip()\n",
    "if not os.path.exists(os.environ['RESULTSPATH']):\n",
    "    os.mkdir(os.environ['RESULTSPATH'])"
   ]
  },
  {
   "cell_type": "markdown",
   "metadata": {},
   "source": [
    "# Leveraging the batch queue to quickly grab point data"
   ]
  },
  {
   "cell_type": "markdown",
   "metadata": {},
   "source": [
    "## Loading libraries"
   ]
  },
  {
   "cell_type": "code",
   "execution_count": 3,
   "metadata": {},
   "outputs": [
    {
     "name": "stdout",
     "output_type": "stream",
     "text": [
      "IOError: Did you load the correct file? /cds/data/psdm/cxi/cxic00318/scratch/Memories/getCSPADcoords\n",
      "Current user is igabalsk will output batch to /cds/data/psdm/cxi/cxic00318/scratch/igabalsk/Batch\n"
     ]
    }
   ],
   "source": [
    "sys.path.insert(0, os.environ['INSTALLPATH']+'/Libraries/LCLS')\n",
    "from LCLSdefault import *\n",
    "\n",
    "sys.path.insert(0, os.environ['INSTALLPATH']+'/Libraries/mattsLibraries')\n",
    "from picklez import *\n",
    "\n",
    "# Load in the get data library\n",
    "from dataAnalysis import *\n",
    "\n",
    "# Load in the batch library for lcls\n",
    "from lclsBatch import *"
   ]
  },
  {
   "cell_type": "markdown",
   "metadata": {},
   "source": [
    "## Grabbing point data across nodes"
   ]
  },
  {
   "cell_type": "code",
   "execution_count": 4,
   "metadata": {
    "scrolled": true
   },
   "outputs": [
    {
     "name": "stdout",
     "output_type": "stream",
     "text": [
      "Deleting the old output file ...\n",
      "Output: \n",
      "Error: None\n",
      "Submitting: ssh psana 'bsub -n 1 -R \"rusage[mem=1000]\" -q psanaq -o /cds/data/psdm/cxi/cxic00318/scratch/igabalsk/Batch/Output/pointData-run200-temp0.out /cds/home/i/igabalsk/TRXS-Run18/Libraries/pythonBatchMagic/BatchWrapper.sh mpirun python2 /cds/data/psdm/cxi/cxic00318/scratch/igabalsk/Batch/Python/pointData-run200-temp0.py'\n",
      "Output: Job <915580> is submitted to queue <psanaq>.\n",
      "\n",
      "Error: \n"
     ]
    }
   ],
   "source": [
    "\n",
    "detDict = {'ebeamcharge':{'name':'EBeam', 'get-function': 'getEbeamCharge'},\n",
    "           'xrayEnergy':{'name':'FEEGasDetEnergy','get-function': 'getXrayEnergy' },\n",
    "          'seconds':{'name':'seconds', 'get-function': 'getSeconds'},\n",
    "          'nanoseconds':{'name':'nanonseconds', 'get-function': 'getNanoseconds'},\n",
    "          'fiducials':{'name':'fiducials', 'get-function': 'getFiducials'}}\n",
    "\n",
    "\n",
    "batchThreads = batchPointDataGrabber( detDict, eventMax=1e5, experiment=experiment, runNumber=runNumber, rank=1 )\n",
    "batchThreads.Queue = 'psanaq'\n",
    "batchThreads.start()"
   ]
  },
  {
   "cell_type": "markdown",
   "metadata": {},
   "source": [
    "## Check job status"
   ]
  },
  {
   "cell_type": "code",
   "execution_count": 7,
   "metadata": {
    "scrolled": true
   },
   "outputs": [
    {
     "name": "stdout",
     "output_type": "stream",
     "text": [
      "JOBID   USER    STAT  QUEUE      FROM_HOST   EXEC_HOST   JOB_NAME   SUBMIT_TIME\n",
      "915580  igabals RUN   psanaq     psanagpu111 psana1107   *-temp0.py Nov 10 17:08\n",
      "\n",
      "\n",
      "/cds/data/psdm/cxi/cxic00318/scratch/igabalsk/Batch/Output/nodePointDataGrabber0-run-200 remembered!\n"
     ]
    }
   ],
   "source": [
    "stdoutdata, stderrdata = bjobs()\n",
    "print stdoutdata\n",
    "print stderrdata"
   ]
  },
  {
   "cell_type": "markdown",
   "metadata": {},
   "source": [
    "## Kill threads if they die"
   ]
  },
  {
   "cell_type": "code",
   "execution_count": 82,
   "metadata": {},
   "outputs": [
    {
     "data": {
      "text/plain": [
       "('', 'No unfinished job found\\n')"
      ]
     },
     "execution_count": 82,
     "metadata": {},
     "output_type": "execute_result"
    }
   ],
   "source": [
    "batchThreads.requestStop()\n",
    "time.sleep(5)\n",
    "bkill(killAll=True)"
   ]
  },
  {
   "cell_type": "code",
   "execution_count": 48,
   "metadata": {
    "scrolled": true
   },
   "outputs": [
    {
     "data": {
      "text/plain": [
       "'Finished'"
      ]
     },
     "execution_count": 48,
     "metadata": {},
     "output_type": "execute_result"
    }
   ],
   "source": [
    "batchThreads.status"
   ]
  },
  {
   "cell_type": "code",
   "execution_count": 49,
   "metadata": {
    "scrolled": false
   },
   "outputs": [
    {
     "name": "stdout",
     "output_type": "stream",
     "text": [
      "/cds/data/psdm/cxi/cxic00318/scratch/igabalsk/Batch/Output/nodePointDataGrabber0-run-200 remembered!\n"
     ]
    }
   ],
   "source": [
    "batchThreads.gather()"
   ]
  },
  {
   "cell_type": "markdown",
   "metadata": {},
   "source": [
    "## Drop empty array values"
   ]
  },
  {
   "cell_type": "code",
   "execution_count": 8,
   "metadata": {},
   "outputs": [],
   "source": [
    "pointData = batchThreads.detArrays\n",
    "\n",
    "def dropEmpty(pointData):\n",
    "\n",
    "    filledBin = (pointData['seconds'] > 0)\n",
    "\n",
    "    for key in pointData.keys():\n",
    "        pointData[key]=pointData[key][filledBin] \n",
    "        \n",
    "    return pointData\n",
    "\n",
    "def dropNaN(pointData):\n",
    "    \n",
    "    goodBin = (~np.isnan(pointData['ebeamcharge']))\n",
    "    \n",
    "    for key in pointData.keys():\n",
    "        pointData[key]=pointData[key][goodBin] \n",
    "        \n",
    "    return pointData\n",
    "\n",
    "pointData = dropEmpty(pointData)\n",
    "pointData = dropNaN(pointData)\n"
   ]
  },
  {
   "cell_type": "markdown",
   "metadata": {},
   "source": [
    "## Save point data"
   ]
  },
  {
   "cell_type": "code",
   "execution_count": 9,
   "metadata": {},
   "outputs": [],
   "source": [
    "save_obj( pointData, os.environ['RESULTSPATH']+'/pointData-run-%d' % runNumber )"
   ]
  },
  {
   "cell_type": "markdown",
   "metadata": {},
   "source": [
    "## Plot histogram of result"
   ]
  },
  {
   "cell_type": "code",
   "execution_count": 10,
   "metadata": {},
   "outputs": [
    {
     "name": "stderr",
     "output_type": "stream",
     "text": [
      "/reg/g/psdm/sw/conda1/inst/miniconda2-prod-rhel7/envs/ana-2.0.11/lib/python2.7/site-packages/matplotlib/axes/_axes.py:6571: UserWarning: The 'normed' kwarg is deprecated, and has been replaced by the 'density' kwarg.\n",
      "  warnings.warn(\"The 'normed' kwarg is deprecated, and has been \"\n",
      "/reg/g/psdm/sw/conda1/inst/miniconda2-prod-rhel7/envs/ana-2.0.11/lib/python2.7/site-packages/matplotlib/font_manager.py:1333: UserWarning: findfont: Font family [u'serif'] not found. Falling back to DejaVu Sans\n",
      "  (prop.get_family(), self.defaultFamily[fontext]))\n"
     ]
    },
    {
     "data": {
      "image/png": "[encoded data removed]",
      "text/plain": [
       "<Figure size 432x288 with 1 Axes>"
      ]
     },
     "metadata": {
      "needs_background": "light"
     },
     "output_type": "display_data"
    }
   ],
   "source": [
    "detArrays = pointData\n",
    "\n",
    "fig2, ax2 = plt.subplots(1, 1)\n",
    "ax2.hist(detArrays['ebeamcharge'], bins=100,normed=False, alpha=0.5);"
   ]
  },
  {
   "cell_type": "code",
   "execution_count": null,
   "metadata": {},
   "outputs": [],
   "source": []
  }
 ],
 "metadata": {
  "kernelspec": {
   "display_name": "LCLS-I py2",
   "language": "python",
   "name": "ana1-current"
  },
  "language_info": {
   "codemirror_mode": {
    "name": "ipython",
    "version": 2
   },
   "file_extension": ".py",
   "mimetype": "text/x-python",
   "name": "python",
   "nbconvert_exporter": "python",
   "pygments_lexer": "ipython2",
   "version": "2.7.15"
  }
 },
 "nbformat": 4,
 "nbformat_minor": 2
}
