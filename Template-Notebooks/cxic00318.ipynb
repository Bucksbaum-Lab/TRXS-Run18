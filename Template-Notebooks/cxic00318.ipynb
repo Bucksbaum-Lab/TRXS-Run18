{
 "cells": [
  {
   "cell_type": "code",
   "execution_count": null,
   "metadata": {},
   "outputs": [],
   "source": [
    "# import psana as ps\n",
    "from psana import *\n",
    "import numpy as np\n",
    "\n",
    "from psmon.plots import Image\n",
    "import matplotlib.pyplot as plt"
   ]
  },
  {
   "cell_type": "code",
   "execution_count": null,
   "metadata": {},
   "outputs": [],
   "source": [
    "ds = DataSource('exp=cxic00318:run=200')\n",
    "detNames = DetNames()"
   ]
  },
  {
   "cell_type": "code",
   "execution_count": null,
   "metadata": {
    "scrolled": true
   },
   "outputs": [],
   "source": [
    "for detName in detNames:\n",
    "    print detName"
   ]
  },
  {
   "cell_type": "code",
   "execution_count": null,
   "metadata": {},
   "outputs": [],
   "source": [
    "print type(None)"
   ]
  },
  {
   "cell_type": "code",
<<<<<<< HEAD
   "execution_count": null,
   "metadata": {
    "scrolled": false
   },
   "outputs": [],
=======
   "execution_count": 27,
   "metadata": {
    "scrolled": false
   },
   "outputs": [
    {
     "name": "stdout",
     "output_type": "stream",
     "text": [
      "0.252688704307\n"
     ]
    }
   ],
>>>>>>> a5e0acc4dba147620e69a5b8956002abbda6b2f4
   "source": [
    "det = ps.Detector('EBeam')\n",
    "energy = []\n",
    "for nevt, evt in enumerate(ds.events()):\n",
    "    event = det.get(evt)\n",
    "    if nevt==1000:\n",
    "        break\n",
    "    try:\n",
    "        toAppend = event.ebeamCharge()\n",
    "    except Exception:\n",
    "        toAppend = None\n",
    "    if nevt==0:\n",
    "        print toAppend\n",
    "    energy.append(toAppend)"
   ]
  },
  {
   "cell_type": "code",
<<<<<<< HEAD
   "execution_count": null,
   "metadata": {},
   "outputs": [],
=======
   "execution_count": 28,
   "metadata": {},
   "outputs": [
    {
     "name": "stdout",
     "output_type": "stream",
     "text": [
      "(1000,)\n"
     ]
    },
    {
     "data": {
      "image/png": "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\n",
      "text/plain": [
       "<Figure size 432x288 with 1 Axes>"
      ]
     },
     "metadata": {
      "needs_background": "light"
     },
     "output_type": "display_data"
    }
   ],
>>>>>>> a5e0acc4dba147620e69a5b8956002abbda6b2f4
   "source": [
    "energy = np.array(energy)\n",
    "print energy.shape\n",
    "\n",
    "plt.figure()\n",
    "plt.plot(energy)\n",
    "plt.show()\n",
    "\n",
    "# avg = np.mean(energy, axis=0)\n",
    "# plt.figure(figsize=(15,5))\n",
    "# plt.imshow(energy[0])\n",
    "# plt.show()"
   ]
  },
  {
   "cell_type": "code",
   "execution_count": null,
   "metadata": {
    "scrolled": true
   },
   "outputs": [],
   "source": [
    "jungfrau = ps.Detector('jungfrau4M')\n",
    "n = 5000\n",
    "summed_image = np.zeros((8,512,1024))\n",
    "events = ds.events()\n",
    "evt = next(events)\n",
    "image = jungfrau.raw(evt).flatten()\n",
    "plt.figure()\n",
    "plt.hist(image, bins=100)\n",
    "plt.show()\n",
    "\n",
    "for nevt, evt in enumerate(ds.events()):\n",
    "    next_image = np.copy(jungfrau.raw(evt))\n",
    "    next_image[next_image>10000]=0\n",
    "    if next_image.shape==summed_image.shape:\n",
    "        summed_image+=np.copy(next_image)\n",
    "    if nevt%120==0:\n",
    "        print nevt, next_image.max(), np.unravel_index(next_image.argmax(), next_image.shape)\n",
    "    if nevt==n-1:\n",
    "        break\n",
    "square_image = summed_image.reshape((2048,2048))"
   ]
  },
  {
   "cell_type": "code",
   "execution_count": null,
   "metadata": {},
   "outputs": [],
   "source": [
    "plt.figure()\n",
    "plt.hist(square_image.flatten(), bins=100)\n",
    "plt.show()\n",
    "\n",
    "print square_image.max()\n",
    "print im.min()\n",
    "im = np.copy(square_image)\n",
    "m=2e7\n",
    "im[im>m]=m\n",
    "plt.figure(figsize=(12,10))\n",
    "plt.imshow(im)\n",
    "plt.show()"
   ]
  },
  {
   "cell_type": "code",
   "execution_count": null,
   "metadata": {},
   "outputs": [],
   "source": [
    "next_image.shape"
   ]
  },
  {
   "cell_type": "code",
   "execution_count": null,
   "metadata": {},
   "outputs": [],
   "source": []
  },
  {
   "cell_type": "code",
   "execution_count": null,
   "metadata": {},
   "outputs": [],
   "source": []
  },
  {
   "cell_type": "code",
   "execution_count": null,
   "metadata": {},
   "outputs": [],
   "source": []
  },
  {
   "cell_type": "code",
   "execution_count": null,
   "metadata": {},
   "outputs": [],
   "source": [
    "help(jungfrau)"
   ]
  },
  {
   "cell_type": "code",
   "execution_count": null,
   "metadata": {},
   "outputs": [],
   "source": []
  },
  {
   "cell_type": "code",
   "execution_count": null,
   "metadata": {},
   "outputs": [],
   "source": []
  },
  {
   "cell_type": "code",
   "execution_count": null,
   "metadata": {},
   "outputs": [],
   "source": []
  },
  {
   "cell_type": "code",
   "execution_count": null,
   "metadata": {},
   "outputs": [],
   "source": []
  },
  {
   "cell_type": "code",
   "execution_count": null,
   "metadata": {},
   "outputs": [],
   "source": []
  },
  {
   "cell_type": "code",
   "execution_count": null,
   "metadata": {},
   "outputs": [],
   "source": []
  },
  {
   "cell_type": "code",
   "execution_count": null,
   "metadata": {},
   "outputs": [],
   "source": []
  }
 ],
 "metadata": {
  "kernelspec": {
   "display_name": "LCLS-I py2",
   "language": "python",
   "name": "ana1-current"
  },
  "language_info": {
   "codemirror_mode": {
    "name": "ipython",
    "version": 2
   },
   "file_extension": ".py",
   "mimetype": "text/x-python",
   "name": "python",
   "nbconvert_exporter": "python",
   "pygments_lexer": "ipython2",
   "version": "2.7.15"
  }
 },
 "nbformat": 4,
 "nbformat_minor": 2
}
