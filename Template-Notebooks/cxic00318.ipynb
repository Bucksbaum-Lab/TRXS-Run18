{
 "cells": [
  {
   "cell_type": "code",
   "execution_count": null,
   "metadata": {},
   "outputs": [],
   "source": [
    "# import psana as ps\n",
    "from psana import *\n",
    "import numpy as np\n",
    "\n",
    "from psmon.plots import Image\n",
    "import matplotlib.pyplot as plt"
   ]
  },
  {
   "cell_type": "code",
   "execution_count": null,
   "metadata": {},
   "outputs": [],
   "source": [
    "ds = DataSource('exp=cxic00318:run=200')\n",
    "detNames = DetNames()"
   ]
  },
  {
   "cell_type": "code",
   "execution_count": null,
   "metadata": {
    "scrolled": true
   },
   "outputs": [],
   "source": [
    "for detName in detNames:\n",
    "    print detName"
   ]
  },
  {
   "cell_type": "code",
   "execution_count": null,
   "metadata": {},
   "outputs": [],
   "source": [
    "print type(None)"
   ]
  },
  {
   "cell_type": "code",
   "execution_count": null,
   "metadata": {
    "scrolled": false
   },
   "outputs": [],
   "source": [
    "det = ps.Detector('EBeam')\n",
    "energy = []\n",
    "for nevt, evt in enumerate(ds.events()):\n",
    "    event = det.get(evt)\n",
    "    if nevt==1000:\n",
    "        break\n",
    "    try:\n",
    "        toAppend = event.ebeamCharge()\n",
    "    except Exception:\n",
    "        toAppend = None\n",
    "    if nevt==0:\n",
    "        print toAppend\n",
    "    energy.append(toAppend)"
   ]
  },
  {
   "cell_type": "code",
   "execution_count": null,
   "metadata": {},
   "outputs": [],
   "source": [
    "energy = np.array(energy)\n",
    "print energy.shape\n",
    "\n",
    "plt.figure()\n",
    "plt.plot(energy)\n",
    "plt.show()\n",
    "\n",
    "# avg = np.mean(energy, axis=0)\n",
    "# plt.figure(figsize=(15,5))\n",
    "# plt.imshow(energy[0])\n",
    "# plt.show()"
   ]
  },
  {
   "cell_type": "code",
   "execution_count": null,
   "metadata": {
    "scrolled": true
   },
   "outputs": [],
   "source": [
    "jungfrau = ps.Detector('jungfrau4M')\n",
    "n = 5000\n",
    "summed_image = np.zeros((8,512,1024))\n",
    "events = ds.events()\n",
    "evt = next(events)\n",
    "image = jungfrau.raw(evt).flatten()\n",
    "plt.figure()\n",
    "plt.hist(image, bins=100)\n",
    "plt.show()\n",
    "\n",
    "for nevt, evt in enumerate(ds.events()):\n",
    "    next_image = np.copy(jungfrau.raw(evt))\n",
    "    next_image[next_image>10000]=0\n",
    "    if next_image.shape==summed_image.shape:\n",
    "        summed_image+=np.copy(next_image)\n",
    "    if nevt%120==0:\n",
    "        print nevt, next_image.max(), np.unravel_index(next_image.argmax(), next_image.shape)\n",
    "    if nevt==n-1:\n",
    "        break\n",
    "square_image = summed_image.reshape((2048,2048))"
   ]
  },
  {
   "cell_type": "code",
   "execution_count": null,
   "metadata": {},
   "outputs": [],
   "source": [
    "plt.figure()\n",
    "plt.hist(square_image.flatten(), bins=100)\n",
    "plt.show()\n",
    "\n",
    "print square_image.max()\n",
    "print im.min()\n",
    "im = np.copy(square_image)\n",
    "m=2e7\n",
    "im[im>m]=m\n",
    "plt.figure(figsize=(12,10))\n",
    "plt.imshow(im)\n",
    "plt.show()"
   ]
  },
  {
   "cell_type": "code",
   "execution_count": null,
   "metadata": {},
   "outputs": [],
   "source": [
    "next_image.shape"
   ]
  },
  {
   "cell_type": "code",
   "execution_count": null,
   "metadata": {},
   "outputs": [],
   "source": []
  },
  {
   "cell_type": "code",
   "execution_count": null,
   "metadata": {},
   "outputs": [],
   "source": []
  },
  {
   "cell_type": "code",
   "execution_count": null,
   "metadata": {},
   "outputs": [],
   "source": []
  },
  {
   "cell_type": "code",
   "execution_count": null,
   "metadata": {},
   "outputs": [],
   "source": [
    "help(jungfrau)"
   ]
  },
  {
   "cell_type": "code",
   "execution_count": null,
   "metadata": {},
   "outputs": [],
   "source": []
  },
  {
   "cell_type": "code",
   "execution_count": null,
   "metadata": {},
   "outputs": [],
   "source": []
  },
  {
   "cell_type": "code",
   "execution_count": null,
   "metadata": {},
   "outputs": [],
   "source": []
  },
  {
   "cell_type": "code",
   "execution_count": null,
   "metadata": {},
   "outputs": [],
   "source": []
  },
  {
   "cell_type": "code",
   "execution_count": null,
   "metadata": {},
   "outputs": [],
   "source": []
  },
  {
   "cell_type": "code",
   "execution_count": null,
   "metadata": {},
   "outputs": [],
   "source": []
  },
  {
   "cell_type": "code",
   "execution_count": null,
   "metadata": {},
   "outputs": [],
   "source": []
  }
 ],
 "metadata": {
  "kernelspec": {
   "display_name": "LCLS-I py2",
   "language": "python",
   "name": "ana1-current"
  },
  "language_info": {
   "codemirror_mode": {
    "name": "ipython",
    "version": 2
   },
   "file_extension": ".py",
   "mimetype": "text/x-python",
   "name": "python",
   "nbconvert_exporter": "python",
   "pygments_lexer": "ipython2",
   "version": "2.7.15"
  }
 },
 "nbformat": 4,
 "nbformat_minor": 2
}
