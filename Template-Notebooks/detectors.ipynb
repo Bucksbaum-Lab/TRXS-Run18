{
 "cells": [
  {
   "cell_type": "code",
   "execution_count": 1,
   "metadata": {},
   "outputs": [],
   "source": [
    "import numpy as np\n",
    "import psana as ps\n",
    "import matplotlib.pyplot as plt"
   ]
  },
  {
   "cell_type": "code",
   "execution_count": 2,
   "metadata": {},
   "outputs": [],
   "source": [
    "ds = ps.DataSource('exp=cxix40218:run=50:smd')"
   ]
  },
  {
   "cell_type": "code",
   "execution_count": 3,
   "metadata": {},
   "outputs": [
    {
     "name": "stdout",
     "output_type": "stream",
     "text": [
      "('CxiEndstation.0:Acqiris.0', 'Acqiris', '')\n",
      "('NoDetector.0:Evr.1', 'evr1', '')\n",
      "('NoDetector.0:Evr.2', 'evr2', '')\n",
      "('EBeam', '', '')\n",
      "('PhaseCavity', '', '')\n",
      "('FEEGasDetEnergy', '', '')\n",
      "('CxiDg3_Imb01', '', '')\n",
      "('CXI-DG2-BMMON', '', '')\n",
      "('CXI-DG3-BMMON', '', '')\n",
      "('CxiDs1.0:Wave8.1', 'CXI-SC1-BMMON-WF', '')\n",
      "('CxiDs1.0:Wave8.0', 'CXI-DG2-BMMON-WF', '')\n",
      "('CxiDsu.0:Opal1000.0', 'Timetool', '')\n",
      "('CxiDs1.0:Jungfrau.0', 'jungfrau4M', '')\n",
      "('ControlData', '', '')\n"
     ]
    }
   ],
   "source": [
    "dets = ps.DetNames()\n",
    "\n",
    "for det in dets:\n",
    "    print det"
   ]
  },
  {
   "cell_type": "code",
   "execution_count": 4,
   "metadata": {},
   "outputs": [
    {
     "name": "stdout",
     "output_type": "stream",
     "text": [
      "<class 'Detector.AreaDetector.AreaDetector'>\n",
      "0\n",
      "1\n",
      "2\n",
      "3\n",
      "4\n",
      "5\n",
      "6\n",
      "7\n",
      "8\n",
      "9\n",
      "10\n",
      "(11, 8, 512, 1024)\n"
     ]
    }
   ],
   "source": [
    "det = ps.Detector('jungfrau4M')\n",
    "print(type(det))\n",
    "# help(det)\n",
    "images = []\n",
    "for i, evt in enumerate(ds.events()):\n",
    "    print i\n",
    "    images.append(det.calib(evt,cmpars=(7, 0, 0)))\n",
    "#     images.append(det.raw(evt))\n",
    "    if i>=10:\n",
    "        break\n",
    "# CSPAD_mask_geo=det.mask(evt0, status=True, calib=True)\n",
    "# mask = det.mask_edges(CSPAD_mask_geo, mrows=4, mcols=4)\n",
    "# CSPAD_mask_bad_pixels=np.multiply(CSPAD_mask_geo,det.mask_geo(evt0,mbits=15))\n",
    "# CSPAD_mask_edges=det.mask_edges(CSPAD_mask_bad_pixels,mrows=4,mcols=4)\n",
    "\n",
    "print np.array(images).shape"
   ]
  },
  {
   "cell_type": "code",
   "execution_count": null,
   "metadata": {},
   "outputs": [],
   "source": [
    "# print vals"
   ]
  },
  {
   "cell_type": "code",
   "execution_count": null,
   "metadata": {},
   "outputs": [],
   "source": [
    "# Specify the experiment for analysis\n",
    "experiment='cxic00318'\n",
    "runNumber = 123\n",
    "\n",
    "# Set the installation and output path\n",
    "import os\n",
    "os.environ['INSTALLPATH']= '/cds/home/i/igabalsk/TRXS-Run18'\n",
    "os.environ['OUTPUTPATH']= '/cds/data/psdm/%s/%s/scratch' % (experiment[0:3],experiment)"
   ]
  },
  {
   "cell_type": "code",
   "execution_count": null,
   "metadata": {},
   "outputs": [],
   "source": [
    "# Magic iPython command to enable plotting\n",
    "%matplotlib inline\n",
    "\n",
    "# Load in the pythonBatchMagic library\n",
    "import sys\n",
    "print os.environ['INSTALLPATH']+'/Libraries/pythonBatchMagic'\n",
    "sys.path.insert(0, os.environ['INSTALLPATH']+'/Libraries/pythonBatchMagic')\n",
    "from pythonBatchMagic import *\n",
    "# Determine current user\n",
    "currentUser, error = unixCMD(\"echo $USER\")\n",
    "print(currentUser)\n",
    "os.environ['RESULTSPATH']= ('/cds/data/psdm/%s/%s/results/%s' % (experiment[0:3],experiment,currentUser)).strip()\n",
    "if not os.path.exists(os.environ['RESULTSPATH']):\n",
    "    os.mkdir(os.environ['RESULTSPATH'])"
   ]
  },
  {
   "cell_type": "code",
   "execution_count": null,
   "metadata": {},
   "outputs": [],
   "source": [
    "sys.path.insert(0, os.environ['INSTALLPATH']+'/Libraries/LCLS')\n",
    "from LCLSdefault import *\n",
    "\n",
    "sys.path.insert(0, os.environ['INSTALLPATH']+'/Libraries/mattsLibraries')\n",
    "from picklez import *\n",
    "\n",
    "# Load in the get data library\n",
    "from dataAnalysis import *\n",
    "\n",
    "# Load in the batch library for lcls\n",
    "from lclsBatch import *"
   ]
  },
  {
   "cell_type": "code",
   "execution_count": null,
   "metadata": {},
   "outputs": [],
   "source": [
    "image = getCSPAD( evt0, det = 'Jungfrau', run=123, experiment='cxic00318', seconds=None, nanoseconds=None, fiducials=None, detType='Jungfrau' )"
   ]
  },
  {
   "cell_type": "code",
   "execution_count": null,
   "metadata": {},
   "outputs": [],
   "source": [
    "image = image.reshape((2048,2048))\n",
    "plt.figure()\n",
    "plt.imshow(image)\n",
    "plt.show()"
   ]
  },
  {
   "cell_type": "code",
   "execution_count": null,
   "metadata": {},
   "outputs": [],
   "source": [
    "print max(0,1)"
   ]
  },
  {
   "cell_type": "code",
   "execution_count": null,
   "metadata": {},
   "outputs": [],
   "source": []
  }
 ],
 "metadata": {
  "kernelspec": {
   "display_name": "LCLS-I py2",
   "language": "python",
   "name": "ana1-current"
  },
  "language_info": {
   "codemirror_mode": {
    "name": "ipython",
    "version": 2
   },
   "file_extension": ".py",
   "mimetype": "text/x-python",
   "name": "python",
   "nbconvert_exporter": "python",
   "pygments_lexer": "ipython2",
   "version": "2.7.15"
  }
 },
 "nbformat": 4,
 "nbformat_minor": 2
}
